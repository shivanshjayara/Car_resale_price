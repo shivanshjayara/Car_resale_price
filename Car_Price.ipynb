{
 "cells": [
  {
   "cell_type": "code",
   "execution_count": 1,
   "metadata": {},
   "outputs": [],
   "source": [
    "import pandas as pd\n",
    "import numpy as np\n",
    "import seaborn as sns\n",
    "import matplotlib.pyplot as plt\n",
    "from sklearn.model_selection import train_test_split\n",
    "from sklearn.ensemble import ExtraTreesRegressor,RandomForestRegressor,GradientBoostingRegressor\n",
    "from xgboost import XGBRegressor\n",
    "from sklearn.tree import DecisionTreeRegressor\n",
    "from sklearn.linear_model import LinearRegression\n",
    "from sklearn.model_selection import RandomizedSearchCV\n",
    "from sklearn.metrics import mean_squared_error,mean_absolute_error,r2_score\n",
    "%matplotlib inline\n",
    "import warnings\n",
    "warnings.filterwarnings('ignore')"
   ]
  },
  {
   "cell_type": "code",
   "execution_count": 2,
   "metadata": {},
   "outputs": [
    {
     "data": {
      "text/html": [
       "<div>\n",
       "<style scoped>\n",
       "    .dataframe tbody tr th:only-of-type {\n",
       "        vertical-align: middle;\n",
       "    }\n",
       "\n",
       "    .dataframe tbody tr th {\n",
       "        vertical-align: top;\n",
       "    }\n",
       "\n",
       "    .dataframe thead th {\n",
       "        text-align: right;\n",
       "    }\n",
       "</style>\n",
       "<table border=\"1\" class=\"dataframe\">\n",
       "  <thead>\n",
       "    <tr style=\"text-align: right;\">\n",
       "      <th></th>\n",
       "      <th>Car_Name</th>\n",
       "      <th>Year</th>\n",
       "      <th>Selling_Price</th>\n",
       "      <th>Present_Price</th>\n",
       "      <th>Kms_Driven</th>\n",
       "      <th>Fuel_Type</th>\n",
       "      <th>Seller_Type</th>\n",
       "      <th>Transmission</th>\n",
       "      <th>Owner</th>\n",
       "    </tr>\n",
       "  </thead>\n",
       "  <tbody>\n",
       "    <tr>\n",
       "      <th>0</th>\n",
       "      <td>ritz</td>\n",
       "      <td>2014</td>\n",
       "      <td>3.35</td>\n",
       "      <td>5.59</td>\n",
       "      <td>27000</td>\n",
       "      <td>Petrol</td>\n",
       "      <td>Dealer</td>\n",
       "      <td>Manual</td>\n",
       "      <td>0</td>\n",
       "    </tr>\n",
       "    <tr>\n",
       "      <th>1</th>\n",
       "      <td>sx4</td>\n",
       "      <td>2013</td>\n",
       "      <td>4.75</td>\n",
       "      <td>9.54</td>\n",
       "      <td>43000</td>\n",
       "      <td>Diesel</td>\n",
       "      <td>Dealer</td>\n",
       "      <td>Manual</td>\n",
       "      <td>0</td>\n",
       "    </tr>\n",
       "    <tr>\n",
       "      <th>2</th>\n",
       "      <td>ciaz</td>\n",
       "      <td>2017</td>\n",
       "      <td>7.25</td>\n",
       "      <td>9.85</td>\n",
       "      <td>6900</td>\n",
       "      <td>Petrol</td>\n",
       "      <td>Dealer</td>\n",
       "      <td>Manual</td>\n",
       "      <td>0</td>\n",
       "    </tr>\n",
       "    <tr>\n",
       "      <th>3</th>\n",
       "      <td>wagon r</td>\n",
       "      <td>2011</td>\n",
       "      <td>2.85</td>\n",
       "      <td>4.15</td>\n",
       "      <td>5200</td>\n",
       "      <td>Petrol</td>\n",
       "      <td>Dealer</td>\n",
       "      <td>Manual</td>\n",
       "      <td>0</td>\n",
       "    </tr>\n",
       "    <tr>\n",
       "      <th>4</th>\n",
       "      <td>swift</td>\n",
       "      <td>2014</td>\n",
       "      <td>4.60</td>\n",
       "      <td>6.87</td>\n",
       "      <td>42450</td>\n",
       "      <td>Diesel</td>\n",
       "      <td>Dealer</td>\n",
       "      <td>Manual</td>\n",
       "      <td>0</td>\n",
       "    </tr>\n",
       "  </tbody>\n",
       "</table>\n",
       "</div>"
      ],
      "text/plain": [
       "  Car_Name  Year  Selling_Price  Present_Price  Kms_Driven Fuel_Type  \\\n",
       "0     ritz  2014           3.35           5.59       27000    Petrol   \n",
       "1      sx4  2013           4.75           9.54       43000    Diesel   \n",
       "2     ciaz  2017           7.25           9.85        6900    Petrol   \n",
       "3  wagon r  2011           2.85           4.15        5200    Petrol   \n",
       "4    swift  2014           4.60           6.87       42450    Diesel   \n",
       "\n",
       "  Seller_Type Transmission  Owner  \n",
       "0      Dealer       Manual      0  \n",
       "1      Dealer       Manual      0  \n",
       "2      Dealer       Manual      0  \n",
       "3      Dealer       Manual      0  \n",
       "4      Dealer       Manual      0  "
      ]
     },
     "execution_count": 2,
     "metadata": {},
     "output_type": "execute_result"
    }
   ],
   "source": [
    "df = pd.read_csv('car data.csv')\n",
    "df.head()"
   ]
  },
  {
   "cell_type": "code",
   "execution_count": 3,
   "metadata": {},
   "outputs": [
    {
     "data": {
      "text/plain": [
       "(301, 9)"
      ]
     },
     "execution_count": 3,
     "metadata": {},
     "output_type": "execute_result"
    }
   ],
   "source": [
    "df.shape"
   ]
  },
  {
   "cell_type": "code",
   "execution_count": 4,
   "metadata": {},
   "outputs": [
    {
     "name": "stdout",
     "output_type": "stream",
     "text": [
      "['Car_Name', 'Fuel_Type', 'Seller_Type', 'Transmission']\n"
     ]
    }
   ],
   "source": [
    "#Categorical columns\n",
    "categorical_features=[i for i in df.columns if df[i].dtypes=='O']\n",
    "print(categorical_features)"
   ]
  },
  {
   "cell_type": "code",
   "execution_count": 5,
   "metadata": {},
   "outputs": [
    {
     "name": "stdout",
     "output_type": "stream",
     "text": [
      "['Year', 'Selling_Price', 'Present_Price', 'Kms_Driven', 'Owner']\n"
     ]
    }
   ],
   "source": [
    "# Numerical columns\n",
    "\n",
    "numerical_features=[i for i in df.columns if df[i].dtypes!='O']\n",
    "print(numerical_features)"
   ]
  },
  {
   "cell_type": "code",
   "execution_count": 6,
   "metadata": {},
   "outputs": [
    {
     "data": {
      "text/html": [
       "<div>\n",
       "<style scoped>\n",
       "    .dataframe tbody tr th:only-of-type {\n",
       "        vertical-align: middle;\n",
       "    }\n",
       "\n",
       "    .dataframe tbody tr th {\n",
       "        vertical-align: top;\n",
       "    }\n",
       "\n",
       "    .dataframe thead th {\n",
       "        text-align: right;\n",
       "    }\n",
       "</style>\n",
       "<table border=\"1\" class=\"dataframe\">\n",
       "  <thead>\n",
       "    <tr style=\"text-align: right;\">\n",
       "      <th></th>\n",
       "      <th>Year</th>\n",
       "      <th>Selling_Price</th>\n",
       "      <th>Present_Price</th>\n",
       "      <th>Kms_Driven</th>\n",
       "      <th>Owner</th>\n",
       "    </tr>\n",
       "  </thead>\n",
       "  <tbody>\n",
       "    <tr>\n",
       "      <th>count</th>\n",
       "      <td>301.000000</td>\n",
       "      <td>301.000000</td>\n",
       "      <td>301.000000</td>\n",
       "      <td>301.000000</td>\n",
       "      <td>301.000000</td>\n",
       "    </tr>\n",
       "    <tr>\n",
       "      <th>mean</th>\n",
       "      <td>2013.627907</td>\n",
       "      <td>4.661296</td>\n",
       "      <td>7.628472</td>\n",
       "      <td>36947.205980</td>\n",
       "      <td>0.043189</td>\n",
       "    </tr>\n",
       "    <tr>\n",
       "      <th>std</th>\n",
       "      <td>2.891554</td>\n",
       "      <td>5.082812</td>\n",
       "      <td>8.644115</td>\n",
       "      <td>38886.883882</td>\n",
       "      <td>0.247915</td>\n",
       "    </tr>\n",
       "    <tr>\n",
       "      <th>min</th>\n",
       "      <td>2003.000000</td>\n",
       "      <td>0.100000</td>\n",
       "      <td>0.320000</td>\n",
       "      <td>500.000000</td>\n",
       "      <td>0.000000</td>\n",
       "    </tr>\n",
       "    <tr>\n",
       "      <th>25%</th>\n",
       "      <td>2012.000000</td>\n",
       "      <td>0.900000</td>\n",
       "      <td>1.200000</td>\n",
       "      <td>15000.000000</td>\n",
       "      <td>0.000000</td>\n",
       "    </tr>\n",
       "    <tr>\n",
       "      <th>50%</th>\n",
       "      <td>2014.000000</td>\n",
       "      <td>3.600000</td>\n",
       "      <td>6.400000</td>\n",
       "      <td>32000.000000</td>\n",
       "      <td>0.000000</td>\n",
       "    </tr>\n",
       "    <tr>\n",
       "      <th>75%</th>\n",
       "      <td>2016.000000</td>\n",
       "      <td>6.000000</td>\n",
       "      <td>9.900000</td>\n",
       "      <td>48767.000000</td>\n",
       "      <td>0.000000</td>\n",
       "    </tr>\n",
       "    <tr>\n",
       "      <th>max</th>\n",
       "      <td>2018.000000</td>\n",
       "      <td>35.000000</td>\n",
       "      <td>92.600000</td>\n",
       "      <td>500000.000000</td>\n",
       "      <td>3.000000</td>\n",
       "    </tr>\n",
       "  </tbody>\n",
       "</table>\n",
       "</div>"
      ],
      "text/plain": [
       "              Year  Selling_Price  Present_Price     Kms_Driven       Owner\n",
       "count   301.000000     301.000000     301.000000     301.000000  301.000000\n",
       "mean   2013.627907       4.661296       7.628472   36947.205980    0.043189\n",
       "std       2.891554       5.082812       8.644115   38886.883882    0.247915\n",
       "min    2003.000000       0.100000       0.320000     500.000000    0.000000\n",
       "25%    2012.000000       0.900000       1.200000   15000.000000    0.000000\n",
       "50%    2014.000000       3.600000       6.400000   32000.000000    0.000000\n",
       "75%    2016.000000       6.000000       9.900000   48767.000000    0.000000\n",
       "max    2018.000000      35.000000      92.600000  500000.000000    3.000000"
      ]
     },
     "execution_count": 6,
     "metadata": {},
     "output_type": "execute_result"
    }
   ],
   "source": [
    "#For numericals features\n",
    "df.describe()"
   ]
  },
  {
   "cell_type": "markdown",
   "metadata": {},
   "source": [
    "In description we can have check for some analysis like mean, median, standard deviation percentile range, etc"
   ]
  },
  {
   "cell_type": "code",
   "execution_count": 7,
   "metadata": {},
   "outputs": [
    {
     "name": "stdout",
     "output_type": "stream",
     "text": [
      "<class 'pandas.core.frame.DataFrame'>\n",
      "RangeIndex: 301 entries, 0 to 300\n",
      "Data columns (total 9 columns):\n",
      " #   Column         Non-Null Count  Dtype  \n",
      "---  ------         --------------  -----  \n",
      " 0   Car_Name       301 non-null    object \n",
      " 1   Year           301 non-null    int64  \n",
      " 2   Selling_Price  301 non-null    float64\n",
      " 3   Present_Price  301 non-null    float64\n",
      " 4   Kms_Driven     301 non-null    int64  \n",
      " 5   Fuel_Type      301 non-null    object \n",
      " 6   Seller_Type    301 non-null    object \n",
      " 7   Transmission   301 non-null    object \n",
      " 8   Owner          301 non-null    int64  \n",
      "dtypes: float64(2), int64(3), object(4)\n",
      "memory usage: 21.3+ KB\n"
     ]
    }
   ],
   "source": [
    "df.info()"
   ]
  },
  {
   "cell_type": "markdown",
   "metadata": {},
   "source": [
    "Out of the to tal features 4 features are categorical features, 2 are floating values features(including one dependent) and remaining 3 features are integer values"
   ]
  },
  {
   "cell_type": "code",
   "execution_count": 8,
   "metadata": {},
   "outputs": [
    {
     "name": "stdout",
     "output_type": "stream",
     "text": [
      "Categorical features\n",
      "\n",
      "Unique items in column Car_Name are: ['ritz' 'sx4' 'ciaz' 'wagon r' 'swift' 'vitara brezza' 's cross'\n",
      " 'alto 800' 'ertiga' 'dzire' 'alto k10' 'ignis' '800' 'baleno' 'omni'\n",
      " 'fortuner' 'innova' 'corolla altis' 'etios cross' 'etios g' 'etios liva'\n",
      " 'corolla' 'etios gd' 'camry' 'land cruiser' 'Royal Enfield Thunder 500'\n",
      " 'UM Renegade Mojave' 'KTM RC200' 'Bajaj Dominar 400'\n",
      " 'Royal Enfield Classic 350' 'KTM RC390' 'Hyosung GT250R'\n",
      " 'Royal Enfield Thunder 350' 'KTM 390 Duke ' 'Mahindra Mojo XT300'\n",
      " 'Bajaj Pulsar RS200' 'Royal Enfield Bullet 350'\n",
      " 'Royal Enfield Classic 500' 'Bajaj Avenger 220' 'Bajaj Avenger 150'\n",
      " 'Honda CB Hornet 160R' 'Yamaha FZ S V 2.0' 'Yamaha FZ 16'\n",
      " 'TVS Apache RTR 160' 'Bajaj Pulsar 150' 'Honda CBR 150' 'Hero Extreme'\n",
      " 'Bajaj Avenger 220 dtsi' 'Bajaj Avenger 150 street' 'Yamaha FZ  v 2.0'\n",
      " 'Bajaj Pulsar  NS 200' 'Bajaj Pulsar 220 F' 'TVS Apache RTR 180'\n",
      " 'Hero Passion X pro' 'Bajaj Pulsar NS 200' 'Yamaha Fazer '\n",
      " 'Honda Activa 4G' 'TVS Sport ' 'Honda Dream Yuga '\n",
      " 'Bajaj Avenger Street 220' 'Hero Splender iSmart' 'Activa 3g'\n",
      " 'Hero Passion Pro' 'Honda CB Trigger' 'Yamaha FZ S '\n",
      " 'Bajaj Pulsar 135 LS' 'Activa 4g' 'Honda CB Unicorn'\n",
      " 'Hero Honda CBZ extreme' 'Honda Karizma' 'Honda Activa 125' 'TVS Jupyter'\n",
      " 'Hero Honda Passion Pro' 'Hero Splender Plus' 'Honda CB Shine'\n",
      " 'Bajaj Discover 100' 'Suzuki Access 125' 'TVS Wego' 'Honda CB twister'\n",
      " 'Hero Glamour' 'Hero Super Splendor' 'Bajaj Discover 125' 'Hero Hunk'\n",
      " 'Hero  Ignitor Disc' 'Hero  CBZ Xtreme' 'Bajaj  ct 100' 'i20' 'grand i10'\n",
      " 'i10' 'eon' 'xcent' 'elantra' 'creta' 'verna' 'city' 'brio' 'amaze'\n",
      " 'jazz']\n",
      "Unique items in column Fuel_Type are: ['Petrol' 'Diesel' 'CNG']\n",
      "Unique items in column Seller_Type are: ['Dealer' 'Individual']\n",
      "Unique items in column Transmission are: ['Manual' 'Automatic']\n"
     ]
    }
   ],
   "source": [
    "print('Categorical features\\n')\n",
    "for column in categorical_features:\n",
    "    print(f'Unique items in column {column} are: {df[column].unique()}')"
   ]
  },
  {
   "cell_type": "markdown",
   "metadata": {},
   "source": [
    "We have seen the name of all the different different categories name inside the categorical features"
   ]
  },
  {
   "cell_type": "code",
   "execution_count": 9,
   "metadata": {},
   "outputs": [
    {
     "name": "stdout",
     "output_type": "stream",
     "text": [
      "Categorical features\n",
      "\n",
      "Unique items in column Car_Name are: 98\n",
      "Unique items in column Fuel_Type are: 3\n",
      "Unique items in column Seller_Type are: 2\n",
      "Unique items in column Transmission are: 2\n"
     ]
    }
   ],
   "source": [
    "print('Categorical features\\n')\n",
    "for column in categorical_features:\n",
    "    print(f'Unique items in column {column} are: {df[column].nunique()}')"
   ]
  },
  {
   "cell_type": "markdown",
   "metadata": {},
   "source": [
    "We have seen the number of the different different categories inside the categorical features count"
   ]
  },
  {
   "cell_type": "code",
   "execution_count": 10,
   "metadata": {},
   "outputs": [
    {
     "name": "stdout",
     "output_type": "stream",
     "text": [
      "city                      26\n",
      "corolla altis             16\n",
      "verna                     14\n",
      "fortuner                  11\n",
      "brio                      10\n",
      "                          ..\n",
      "KTM RC390                  1\n",
      "baleno                     1\n",
      "800                        1\n",
      "Hero Honda Passion Pro     1\n",
      "vitara brezza              1\n",
      "Name: Car_Name, Length: 98, dtype: int64\n",
      "\n",
      "Petrol    239\n",
      "Diesel     60\n",
      "CNG         2\n",
      "Name: Fuel_Type, dtype: int64\n",
      "\n",
      "Dealer        195\n",
      "Individual    106\n",
      "Name: Seller_Type, dtype: int64\n",
      "\n",
      "Manual       261\n",
      "Automatic     40\n",
      "Name: Transmission, dtype: int64\n",
      "\n"
     ]
    }
   ],
   "source": [
    "for column in categorical_features:\n",
    "    print(df[column].value_counts())\n",
    "    print()"
   ]
  },
  {
   "cell_type": "markdown",
   "metadata": {},
   "source": [
    "Here we are seeing the number of counts of each category inside the categorical feature that how many times it is present inside the data set"
   ]
  },
  {
   "cell_type": "code",
   "execution_count": 11,
   "metadata": {},
   "outputs": [
    {
     "data": {
      "text/plain": [
       "array([0, 1, 3], dtype=int64)"
      ]
     },
     "execution_count": 11,
     "metadata": {},
     "output_type": "execute_result"
    }
   ],
   "source": [
    "df['Owner'].unique()"
   ]
  },
  {
   "cell_type": "markdown",
   "metadata": {},
   "source": [
    "Owner is integer data type and it has three categories. It tells you how many times owner is changed or we can also say that how many times that particular car has been sold to some one"
   ]
  },
  {
   "cell_type": "code",
   "execution_count": 12,
   "metadata": {},
   "outputs": [
    {
     "data": {
      "text/plain": [
       "Car_Name         0\n",
       "Year             0\n",
       "Selling_Price    0\n",
       "Present_Price    0\n",
       "Kms_Driven       0\n",
       "Fuel_Type        0\n",
       "Seller_Type      0\n",
       "Transmission     0\n",
       "Owner            0\n",
       "dtype: int64"
      ]
     },
     "execution_count": 12,
     "metadata": {},
     "output_type": "execute_result"
    }
   ],
   "source": [
    "#Checking if ther eis any misisng values in the data set or not\n",
    "\n",
    "df.isnull().sum()"
   ]
  },
  {
   "cell_type": "markdown",
   "metadata": {},
   "source": [
    "We have seen that there is no missing values in the data set"
   ]
  },
  {
   "cell_type": "markdown",
   "metadata": {},
   "source": [
    "### Data Visualization"
   ]
  },
  {
   "cell_type": "markdown",
   "metadata": {},
   "source": [
    "**1) Frequency Counts of the features**"
   ]
  },
  {
   "cell_type": "code",
   "execution_count": 13,
   "metadata": {},
   "outputs": [
    {
     "data": {
      "image/png": "[encoded data removed]",
      "text/plain": [
       "<Figure size 1080x720 with 5 Axes>"
      ]
     },
     "metadata": {
      "needs_background": "light"
     },
     "output_type": "display_data"
    }
   ],
   "source": [
    "plt.figure(figsize=(15,10))\n",
    "plot=1\n",
    "\n",
    "for i in ['Year','Owner','Transmission','Fuel_Type','Seller_Type']:\n",
    "    plt.subplot(3,3,plot)\n",
    "    sns.countplot(x=i,data=df)\n",
    "    plt.xticks(rotation=90)\n",
    "    plot+=1\n",
    "plt.savefig('./Graphs/years_owner_transmission_fueltype_sellerType_frequency.jpg')"
   ]
  },
  {
   "cell_type": "markdown",
   "metadata": {},
   "source": [
    "Car_name feature is not taken as it hase huge number of categories so for better visualization it just removed for a while"
   ]
  },
  {
   "cell_type": "markdown",
   "metadata": {},
   "source": [
    "**Years**: We see that in year 2015 is having the highest count so we can say that in the data set car which was purchased in 2015 is highest as compared with any other years"
   ]
  },
  {
   "cell_type": "markdown",
   "metadata": {},
   "source": [
    "**Owner**: we see that those cars which are not been solde to any one till yet and are in the hand of first owner are having maximum counts"
   ]
  },
  {
   "cell_type": "markdown",
   "metadata": {},
   "source": [
    "**Transmission**: Mannual transmission cars are having highest counts"
   ]
  },
  {
   "cell_type": "markdown",
   "metadata": {},
   "source": [
    "**Fuel_Type**:Cars which are run on petrol are having maximum number in data set followed by diesel and CNG"
   ]
  },
  {
   "cell_type": "markdown",
   "metadata": {},
   "source": [
    "**Seller_Type**: Cars which are present under the dealers are having maximum counts as compared with the individual owner who are willing to sell his car"
   ]
  },
  {
   "cell_type": "markdown",
   "metadata": {},
   "source": [
    "**2) Numerical Fetaures vs Selling Price of the car**"
   ]
  },
  {
   "cell_type": "code",
   "execution_count": 14,
   "metadata": {},
   "outputs": [
    {
     "data": {
      "image/png": "[encoded data removed]",
      "text/plain": [
       "<Figure size 1080x720 with 2 Axes>"
      ]
     },
     "metadata": {
      "needs_background": "light"
     },
     "output_type": "display_data"
    }
   ],
   "source": [
    "plt.figure(figsize=(15,10))\n",
    "plot=1\n",
    "\n",
    "for i in ['Year','Owner']:\n",
    "    plt.subplot(3,3,plot)\n",
    "    sns.barplot(x=i,y='Selling_Price',data=df)\n",
    "    plt.xticks(rotation=90)\n",
    "    plot+=1\n",
    "plt.savefig('./Graphs/fuel_seller_transmission_VS_selling_price.jpg')"
   ]
  },
  {
   "cell_type": "markdown",
   "metadata": {},
   "source": [
    "Car which have been purchased in 2018 are having higher value of selling price. The reason may be it is new when compared with other years.\n",
    "There is another year which is giving a contrast in this analysis, cars purchased in 2010 is having higher selling price as compared with year 2011,2012,2013,2014.\n",
    "This is may be due to the some other factors also like number of times owner is changed may be low as 0, kilometer runs may be less, etc.\n",
    "\n",
    "Cars purchased in 2007 got the lowest selling price"
   ]
  },
  {
   "cell_type": "markdown",
   "metadata": {},
   "source": [
    "When number of owner was not changed then the selling was prices was pretty much high. It is pretty obvious also because the car which runs single hand can have a good resale price plus it is also depends on the km runs as well as how good was the seller for that car thats's why the selling price for those cars whose owner is change 3 times is higher than those of 1"
   ]
  },
  {
   "cell_type": "code",
   "execution_count": 15,
   "metadata": {},
   "outputs": [
    {
     "data": {
      "image/png": "[encoded data removed]",
      "text/plain": [
       "<Figure size 1440x720 with 2 Axes>"
      ]
     },
     "metadata": {
      "needs_background": "light"
     },
     "output_type": "display_data"
    }
   ],
   "source": [
    "plt.figure(figsize=(20,10))\n",
    "plot=1\n",
    "\n",
    "for i in ['Year','Owner']:\n",
    "    plt.subplot(3,3,plot)\n",
    "    sns.barplot(x=i,y='Selling_Price',data=df,hue='Seller_Type')\n",
    "    plt.xticks(rotation=90)\n",
    "    plot+=1\n",
    "plt.savefig('./Graphs/years_owner_VS_Selling_price(hue=seller_type).jpg')"
   ]
  },
  {
   "cell_type": "markdown",
   "metadata": {},
   "source": [
    "By the above graph we can easily find out that whenever the the car dealer has sold the car, it gets good amout of selling price as compared with the individual seller.\n",
    "In case of owner=3, dealer was not interested to sell the car but still the individual was pretty much good in selling the car.\n",
    "\n",
    "Cars which were purchased in 2017 was sold in a good amout by the dealer as compared with others and cars purchsed in 2007 sold at very low cost by dealer "
   ]
  },
  {
   "cell_type": "code",
   "execution_count": 16,
   "metadata": {},
   "outputs": [],
   "source": [
    "# Creating another feature which will store the number of years that particular car have till now\n",
    "df['Number_of_years']=2021-df['Year']"
   ]
  },
  {
   "cell_type": "code",
   "execution_count": 17,
   "metadata": {},
   "outputs": [
    {
     "data": {
      "text/html": [
       "<div>\n",
       "<style scoped>\n",
       "    .dataframe tbody tr th:only-of-type {\n",
       "        vertical-align: middle;\n",
       "    }\n",
       "\n",
       "    .dataframe tbody tr th {\n",
       "        vertical-align: top;\n",
       "    }\n",
       "\n",
       "    .dataframe thead th {\n",
       "        text-align: right;\n",
       "    }\n",
       "</style>\n",
       "<table border=\"1\" class=\"dataframe\">\n",
       "  <thead>\n",
       "    <tr style=\"text-align: right;\">\n",
       "      <th></th>\n",
       "      <th>Car_Name</th>\n",
       "      <th>Year</th>\n",
       "      <th>Selling_Price</th>\n",
       "      <th>Present_Price</th>\n",
       "      <th>Kms_Driven</th>\n",
       "      <th>Fuel_Type</th>\n",
       "      <th>Seller_Type</th>\n",
       "      <th>Transmission</th>\n",
       "      <th>Owner</th>\n",
       "      <th>Number_of_years</th>\n",
       "    </tr>\n",
       "  </thead>\n",
       "  <tbody>\n",
       "    <tr>\n",
       "      <th>0</th>\n",
       "      <td>ritz</td>\n",
       "      <td>2014</td>\n",
       "      <td>3.35</td>\n",
       "      <td>5.59</td>\n",
       "      <td>27000</td>\n",
       "      <td>Petrol</td>\n",
       "      <td>Dealer</td>\n",
       "      <td>Manual</td>\n",
       "      <td>0</td>\n",
       "      <td>7</td>\n",
       "    </tr>\n",
       "    <tr>\n",
       "      <th>1</th>\n",
       "      <td>sx4</td>\n",
       "      <td>2013</td>\n",
       "      <td>4.75</td>\n",
       "      <td>9.54</td>\n",
       "      <td>43000</td>\n",
       "      <td>Diesel</td>\n",
       "      <td>Dealer</td>\n",
       "      <td>Manual</td>\n",
       "      <td>0</td>\n",
       "      <td>8</td>\n",
       "    </tr>\n",
       "    <tr>\n",
       "      <th>2</th>\n",
       "      <td>ciaz</td>\n",
       "      <td>2017</td>\n",
       "      <td>7.25</td>\n",
       "      <td>9.85</td>\n",
       "      <td>6900</td>\n",
       "      <td>Petrol</td>\n",
       "      <td>Dealer</td>\n",
       "      <td>Manual</td>\n",
       "      <td>0</td>\n",
       "      <td>4</td>\n",
       "    </tr>\n",
       "    <tr>\n",
       "      <th>3</th>\n",
       "      <td>wagon r</td>\n",
       "      <td>2011</td>\n",
       "      <td>2.85</td>\n",
       "      <td>4.15</td>\n",
       "      <td>5200</td>\n",
       "      <td>Petrol</td>\n",
       "      <td>Dealer</td>\n",
       "      <td>Manual</td>\n",
       "      <td>0</td>\n",
       "      <td>10</td>\n",
       "    </tr>\n",
       "    <tr>\n",
       "      <th>4</th>\n",
       "      <td>swift</td>\n",
       "      <td>2014</td>\n",
       "      <td>4.60</td>\n",
       "      <td>6.87</td>\n",
       "      <td>42450</td>\n",
       "      <td>Diesel</td>\n",
       "      <td>Dealer</td>\n",
       "      <td>Manual</td>\n",
       "      <td>0</td>\n",
       "      <td>7</td>\n",
       "    </tr>\n",
       "  </tbody>\n",
       "</table>\n",
       "</div>"
      ],
      "text/plain": [
       "  Car_Name  Year  Selling_Price  Present_Price  Kms_Driven Fuel_Type  \\\n",
       "0     ritz  2014           3.35           5.59       27000    Petrol   \n",
       "1      sx4  2013           4.75           9.54       43000    Diesel   \n",
       "2     ciaz  2017           7.25           9.85        6900    Petrol   \n",
       "3  wagon r  2011           2.85           4.15        5200    Petrol   \n",
       "4    swift  2014           4.60           6.87       42450    Diesel   \n",
       "\n",
       "  Seller_Type Transmission  Owner  Number_of_years  \n",
       "0      Dealer       Manual      0                7  \n",
       "1      Dealer       Manual      0                8  \n",
       "2      Dealer       Manual      0                4  \n",
       "3      Dealer       Manual      0               10  \n",
       "4      Dealer       Manual      0                7  "
      ]
     },
     "execution_count": 17,
     "metadata": {},
     "output_type": "execute_result"
    }
   ],
   "source": [
    "df.head()"
   ]
  },
  {
   "cell_type": "code",
   "execution_count": 18,
   "metadata": {},
   "outputs": [
    {
     "data": {
      "image/png": "[encoded data removed]",
      "text/plain": [
       "<Figure size 1440x432 with 1 Axes>"
      ]
     },
     "metadata": {
      "needs_background": "light"
     },
     "output_type": "display_data"
    }
   ],
   "source": [
    "plt.figure(figsize=(20,6))\n",
    "sns.barplot(y='Selling_Price',x='Number_of_years',data=df)\n",
    "plt.xticks(rotation=90)\n",
    "plt.savefig('./Graphs/NumberOfYears_VS_selling_price.jpg')\n",
    "plt.show()"
   ]
  },
  {
   "cell_type": "markdown",
   "metadata": {},
   "source": [
    "As the number of years is higher the selling price is getting dropped. It is pretty obvious because re sale valu eis indirectly proportional to the time period"
   ]
  },
  {
   "cell_type": "code",
   "execution_count": 19,
   "metadata": {},
   "outputs": [
    {
     "data": {
      "image/png": "[encoded data removed]",
      "text/plain": [
       "<Figure size 1440x432 with 1 Axes>"
      ]
     },
     "metadata": {
      "needs_background": "light"
     },
     "output_type": "display_data"
    }
   ],
   "source": [
    "plt.figure(figsize=(20,6))\n",
    "sns.barplot(x='Present_Price',y='Selling_Price',data=df)\n",
    "plt.xticks(rotation=90)\n",
    "plt.savefig('./Graphs/presentprice_VS_selling_price.jpg')\n",
    "plt.show()"
   ]
  },
  {
   "cell_type": "markdown",
   "metadata": {},
   "source": [
    "If we check the trend of present price vs the selling price, we see that it is not linear in nature. Somewhere where present price is low, selling price is high as compared with som eother corresponding prices. So there is no linear trend in the comparison. \n",
    "May be because of outliers or may be because of the car make or may be because of the time it is being used or other factors as well. We will look into this in further analysis"
   ]
  },
  {
   "cell_type": "code",
   "execution_count": 20,
   "metadata": {},
   "outputs": [
    {
     "data": {
      "image/png": "[encoded data removed]",
      "text/plain": [
       "<Figure size 1440x432 with 1 Axes>"
      ]
     },
     "metadata": {
      "needs_background": "light"
     },
     "output_type": "display_data"
    }
   ],
   "source": [
    "plt.figure(figsize=(20,6))\n",
    "sns.barplot(x='Kms_Driven',y='Selling_Price',data=df)\n",
    "plt.xticks(rotation=90)\n",
    "plt.savefig('./Graphs/kilometers_VS_selling_price.jpg')\n",
    "plt.show()"
   ]
  },
  {
   "cell_type": "markdown",
   "metadata": {},
   "source": [
    "In kilometer runs also ther eis no linear trend. So we cant say that higher the km lower the price or vice-versa. It may impacted by different different parameters"
   ]
  },
  {
   "cell_type": "markdown",
   "metadata": {},
   "source": [
    "**3) Categorical Fetaures vs Selling Price of the car**"
   ]
  },
  {
   "cell_type": "code",
   "execution_count": 21,
   "metadata": {},
   "outputs": [
    {
     "data": {
      "image/png": "[encoded data removed]",
      "text/plain": [
       "<Figure size 1440x720 with 3 Axes>"
      ]
     },
     "metadata": {
      "needs_background": "light"
     },
     "output_type": "display_data"
    }
   ],
   "source": [
    "plt.figure(figsize=(20,10))\n",
    "plot=1\n",
    "\n",
    "for i in ['Fuel_Type','Seller_Type','Transmission']:\n",
    "    plt.subplot(3,3,plot)\n",
    "    sns.barplot(x=i,y='Selling_Price',data=df)\n",
    "    plt.xticks(rotation=90)\n",
    "    plot+=1\n",
    "plt.savefig('./Graphs/fuel_seller_transmission_VS_selling_price.jpg')"
   ]
  },
  {
   "cell_type": "markdown",
   "metadata": {},
   "source": [
    "**Fuel_type**: Diesel car gets the higher resale value. This is may be because the diesel car price is higher than the petrol price"
   ]
  },
  {
   "cell_type": "markdown",
   "metadata": {},
   "source": [
    "**Seller_type**: When ever the dealer has sold the car, he has sold it for higher price as compared with the individual person. This is may be becaus of how good he was in selling the cars or may be dealer has given the warranty or services for few years or may be he hs done some testing and all then given the buyer's a trial and on the basis of those things may be he gets the higher prices"
   ]
  },
  {
   "cell_type": "markdown",
   "metadata": {},
   "source": [
    "**Transmission**: It is obvious that the automatic transmission cars are higher is cost, thts why they sold in higher selling price"
   ]
  },
  {
   "cell_type": "code",
   "execution_count": 22,
   "metadata": {},
   "outputs": [],
   "source": [
    "# Deleting the Year column\n",
    "df.drop(columns='Year',axis=1,inplace=True)"
   ]
  },
  {
   "cell_type": "code",
   "execution_count": 23,
   "metadata": {},
   "outputs": [
    {
     "data": {
      "text/html": [
       "<div>\n",
       "<style scoped>\n",
       "    .dataframe tbody tr th:only-of-type {\n",
       "        vertical-align: middle;\n",
       "    }\n",
       "\n",
       "    .dataframe tbody tr th {\n",
       "        vertical-align: top;\n",
       "    }\n",
       "\n",
       "    .dataframe thead th {\n",
       "        text-align: right;\n",
       "    }\n",
       "</style>\n",
       "<table border=\"1\" class=\"dataframe\">\n",
       "  <thead>\n",
       "    <tr style=\"text-align: right;\">\n",
       "      <th></th>\n",
       "      <th>Car_Name</th>\n",
       "      <th>Selling_Price</th>\n",
       "      <th>Present_Price</th>\n",
       "      <th>Kms_Driven</th>\n",
       "      <th>Fuel_Type</th>\n",
       "      <th>Seller_Type</th>\n",
       "      <th>Transmission</th>\n",
       "      <th>Owner</th>\n",
       "      <th>Number_of_years</th>\n",
       "    </tr>\n",
       "  </thead>\n",
       "  <tbody>\n",
       "    <tr>\n",
       "      <th>0</th>\n",
       "      <td>ritz</td>\n",
       "      <td>3.35</td>\n",
       "      <td>5.59</td>\n",
       "      <td>27000</td>\n",
       "      <td>Petrol</td>\n",
       "      <td>Dealer</td>\n",
       "      <td>Manual</td>\n",
       "      <td>0</td>\n",
       "      <td>7</td>\n",
       "    </tr>\n",
       "    <tr>\n",
       "      <th>1</th>\n",
       "      <td>sx4</td>\n",
       "      <td>4.75</td>\n",
       "      <td>9.54</td>\n",
       "      <td>43000</td>\n",
       "      <td>Diesel</td>\n",
       "      <td>Dealer</td>\n",
       "      <td>Manual</td>\n",
       "      <td>0</td>\n",
       "      <td>8</td>\n",
       "    </tr>\n",
       "    <tr>\n",
       "      <th>2</th>\n",
       "      <td>ciaz</td>\n",
       "      <td>7.25</td>\n",
       "      <td>9.85</td>\n",
       "      <td>6900</td>\n",
       "      <td>Petrol</td>\n",
       "      <td>Dealer</td>\n",
       "      <td>Manual</td>\n",
       "      <td>0</td>\n",
       "      <td>4</td>\n",
       "    </tr>\n",
       "    <tr>\n",
       "      <th>3</th>\n",
       "      <td>wagon r</td>\n",
       "      <td>2.85</td>\n",
       "      <td>4.15</td>\n",
       "      <td>5200</td>\n",
       "      <td>Petrol</td>\n",
       "      <td>Dealer</td>\n",
       "      <td>Manual</td>\n",
       "      <td>0</td>\n",
       "      <td>10</td>\n",
       "    </tr>\n",
       "    <tr>\n",
       "      <th>4</th>\n",
       "      <td>swift</td>\n",
       "      <td>4.60</td>\n",
       "      <td>6.87</td>\n",
       "      <td>42450</td>\n",
       "      <td>Diesel</td>\n",
       "      <td>Dealer</td>\n",
       "      <td>Manual</td>\n",
       "      <td>0</td>\n",
       "      <td>7</td>\n",
       "    </tr>\n",
       "  </tbody>\n",
       "</table>\n",
       "</div>"
      ],
      "text/plain": [
       "  Car_Name  Selling_Price  Present_Price  Kms_Driven Fuel_Type Seller_Type  \\\n",
       "0     ritz           3.35           5.59       27000    Petrol      Dealer   \n",
       "1      sx4           4.75           9.54       43000    Diesel      Dealer   \n",
       "2     ciaz           7.25           9.85        6900    Petrol      Dealer   \n",
       "3  wagon r           2.85           4.15        5200    Petrol      Dealer   \n",
       "4    swift           4.60           6.87       42450    Diesel      Dealer   \n",
       "\n",
       "  Transmission  Owner  Number_of_years  \n",
       "0       Manual      0                7  \n",
       "1       Manual      0                8  \n",
       "2       Manual      0                4  \n",
       "3       Manual      0               10  \n",
       "4       Manual      0                7  "
      ]
     },
     "execution_count": 23,
     "metadata": {},
     "output_type": "execute_result"
    }
   ],
   "source": [
    "df.head()"
   ]
  },
  {
   "cell_type": "markdown",
   "metadata": {},
   "source": [
    "### Correlation"
   ]
  },
  {
   "cell_type": "code",
   "execution_count": 24,
   "metadata": {},
   "outputs": [
    {
     "data": {
      "image/png": "[encoded data removed]",
      "text/plain": [
       "<Figure size 1080x576 with 2 Axes>"
      ]
     },
     "metadata": {
      "needs_background": "light"
     },
     "output_type": "display_data"
    }
   ],
   "source": [
    "plt.figure(figsize=(15,8))\n",
    "sns.heatmap(df.drop(columns='Selling_Price').corr(),annot=True)\n",
    "plt.savefig('./Graphs/independent_variables_correlation_heat_map.jpg')"
   ]
  },
  {
   "cell_type": "code",
   "execution_count": 25,
   "metadata": {},
   "outputs": [
    {
     "name": "stdout",
     "output_type": "stream",
     "text": [
      "Number of columns which are highly correlated i.e. more than 90% correlation are: 0\n"
     ]
    }
   ],
   "source": [
    "columns=set()\n",
    "corr_matrix=df.corr()\n",
    "for i in range(len(corr_matrix.columns)):\n",
    "    for j in range(i):\n",
    "        if abs(corr_matrix.iloc[i,j])>0.90:\n",
    "            col=df.columns[i]\n",
    "            columns.add(col)\n",
    "print(f'Number of columns which are highly correlated i.e. more than 90% correlation are: {len(columns)}')"
   ]
  },
  {
   "cell_type": "markdown",
   "metadata": {},
   "source": [
    "So hence there are no such columns which are highly correlated so we will not delete any of them"
   ]
  },
  {
   "cell_type": "markdown",
   "metadata": {},
   "source": [
    "### Standard Deviation"
   ]
  },
  {
   "cell_type": "code",
   "execution_count": 26,
   "metadata": {},
   "outputs": [],
   "source": [
    "numerical_features=numerical_features+['Number_of_years']"
   ]
  },
  {
   "cell_type": "code",
   "execution_count": 27,
   "metadata": {},
   "outputs": [
    {
     "data": {
      "text/plain": [
       "['Year',\n",
       " 'Selling_Price',\n",
       " 'Present_Price',\n",
       " 'Kms_Driven',\n",
       " 'Owner',\n",
       " 'Number_of_years']"
      ]
     },
     "execution_count": 27,
     "metadata": {},
     "output_type": "execute_result"
    }
   ],
   "source": [
    "numerical_features"
   ]
  },
  {
   "cell_type": "code",
   "execution_count": 28,
   "metadata": {},
   "outputs": [
    {
     "data": {
      "text/plain": [
       "'Owner'"
      ]
     },
     "execution_count": 28,
     "metadata": {},
     "output_type": "execute_result"
    }
   ],
   "source": [
    "numerical_features.pop(4)"
   ]
  },
  {
   "cell_type": "code",
   "execution_count": 29,
   "metadata": {},
   "outputs": [
    {
     "data": {
      "text/plain": [
       "['Year', 'Selling_Price', 'Present_Price', 'Kms_Driven', 'Number_of_years']"
      ]
     },
     "execution_count": 29,
     "metadata": {},
     "output_type": "execute_result"
    }
   ],
   "source": [
    "numerical_features"
   ]
  },
  {
   "cell_type": "code",
   "execution_count": 30,
   "metadata": {},
   "outputs": [
    {
     "name": "stdout",
     "output_type": "stream",
     "text": [
      "Number of columns having zero standard deviation are: 0\n"
     ]
    }
   ],
   "source": [
    "std_zero_columns=[]\n",
    "for i in numerical_features[1:]:\n",
    "    if (np.std(df[i])==0):\n",
    "        std_zero_columns.append(i)\n",
    "print(f'Number of columns having zero standard deviation are: {len(std_zero_columns)}')"
   ]
  },
  {
   "cell_type": "markdown",
   "metadata": {},
   "source": [
    "Since there are no such columns whose standard deviations are ero so we will not removed them"
   ]
  },
  {
   "cell_type": "markdown",
   "metadata": {},
   "source": [
    "## Feature Engineering"
   ]
  },
  {
   "cell_type": "code",
   "execution_count": 31,
   "metadata": {},
   "outputs": [],
   "source": [
    "df.drop(columns='Car_Name',axis=1,inplace=True)"
   ]
  },
  {
   "cell_type": "code",
   "execution_count": 32,
   "metadata": {},
   "outputs": [
    {
     "data": {
      "text/html": [
       "<div>\n",
       "<style scoped>\n",
       "    .dataframe tbody tr th:only-of-type {\n",
       "        vertical-align: middle;\n",
       "    }\n",
       "\n",
       "    .dataframe tbody tr th {\n",
       "        vertical-align: top;\n",
       "    }\n",
       "\n",
       "    .dataframe thead th {\n",
       "        text-align: right;\n",
       "    }\n",
       "</style>\n",
       "<table border=\"1\" class=\"dataframe\">\n",
       "  <thead>\n",
       "    <tr style=\"text-align: right;\">\n",
       "      <th></th>\n",
       "      <th>Selling_Price</th>\n",
       "      <th>Present_Price</th>\n",
       "      <th>Kms_Driven</th>\n",
       "      <th>Fuel_Type</th>\n",
       "      <th>Seller_Type</th>\n",
       "      <th>Transmission</th>\n",
       "      <th>Owner</th>\n",
       "      <th>Number_of_years</th>\n",
       "    </tr>\n",
       "  </thead>\n",
       "  <tbody>\n",
       "    <tr>\n",
       "      <th>0</th>\n",
       "      <td>3.35</td>\n",
       "      <td>5.59</td>\n",
       "      <td>27000</td>\n",
       "      <td>Petrol</td>\n",
       "      <td>Dealer</td>\n",
       "      <td>Manual</td>\n",
       "      <td>0</td>\n",
       "      <td>7</td>\n",
       "    </tr>\n",
       "    <tr>\n",
       "      <th>1</th>\n",
       "      <td>4.75</td>\n",
       "      <td>9.54</td>\n",
       "      <td>43000</td>\n",
       "      <td>Diesel</td>\n",
       "      <td>Dealer</td>\n",
       "      <td>Manual</td>\n",
       "      <td>0</td>\n",
       "      <td>8</td>\n",
       "    </tr>\n",
       "    <tr>\n",
       "      <th>2</th>\n",
       "      <td>7.25</td>\n",
       "      <td>9.85</td>\n",
       "      <td>6900</td>\n",
       "      <td>Petrol</td>\n",
       "      <td>Dealer</td>\n",
       "      <td>Manual</td>\n",
       "      <td>0</td>\n",
       "      <td>4</td>\n",
       "    </tr>\n",
       "    <tr>\n",
       "      <th>3</th>\n",
       "      <td>2.85</td>\n",
       "      <td>4.15</td>\n",
       "      <td>5200</td>\n",
       "      <td>Petrol</td>\n",
       "      <td>Dealer</td>\n",
       "      <td>Manual</td>\n",
       "      <td>0</td>\n",
       "      <td>10</td>\n",
       "    </tr>\n",
       "    <tr>\n",
       "      <th>4</th>\n",
       "      <td>4.60</td>\n",
       "      <td>6.87</td>\n",
       "      <td>42450</td>\n",
       "      <td>Diesel</td>\n",
       "      <td>Dealer</td>\n",
       "      <td>Manual</td>\n",
       "      <td>0</td>\n",
       "      <td>7</td>\n",
       "    </tr>\n",
       "    <tr>\n",
       "      <th>...</th>\n",
       "      <td>...</td>\n",
       "      <td>...</td>\n",
       "      <td>...</td>\n",
       "      <td>...</td>\n",
       "      <td>...</td>\n",
       "      <td>...</td>\n",
       "      <td>...</td>\n",
       "      <td>...</td>\n",
       "    </tr>\n",
       "    <tr>\n",
       "      <th>296</th>\n",
       "      <td>9.50</td>\n",
       "      <td>11.60</td>\n",
       "      <td>33988</td>\n",
       "      <td>Diesel</td>\n",
       "      <td>Dealer</td>\n",
       "      <td>Manual</td>\n",
       "      <td>0</td>\n",
       "      <td>5</td>\n",
       "    </tr>\n",
       "    <tr>\n",
       "      <th>297</th>\n",
       "      <td>4.00</td>\n",
       "      <td>5.90</td>\n",
       "      <td>60000</td>\n",
       "      <td>Petrol</td>\n",
       "      <td>Dealer</td>\n",
       "      <td>Manual</td>\n",
       "      <td>0</td>\n",
       "      <td>6</td>\n",
       "    </tr>\n",
       "    <tr>\n",
       "      <th>298</th>\n",
       "      <td>3.35</td>\n",
       "      <td>11.00</td>\n",
       "      <td>87934</td>\n",
       "      <td>Petrol</td>\n",
       "      <td>Dealer</td>\n",
       "      <td>Manual</td>\n",
       "      <td>0</td>\n",
       "      <td>12</td>\n",
       "    </tr>\n",
       "    <tr>\n",
       "      <th>299</th>\n",
       "      <td>11.50</td>\n",
       "      <td>12.50</td>\n",
       "      <td>9000</td>\n",
       "      <td>Diesel</td>\n",
       "      <td>Dealer</td>\n",
       "      <td>Manual</td>\n",
       "      <td>0</td>\n",
       "      <td>4</td>\n",
       "    </tr>\n",
       "    <tr>\n",
       "      <th>300</th>\n",
       "      <td>5.30</td>\n",
       "      <td>5.90</td>\n",
       "      <td>5464</td>\n",
       "      <td>Petrol</td>\n",
       "      <td>Dealer</td>\n",
       "      <td>Manual</td>\n",
       "      <td>0</td>\n",
       "      <td>5</td>\n",
       "    </tr>\n",
       "  </tbody>\n",
       "</table>\n",
       "<p>301 rows × 8 columns</p>\n",
       "</div>"
      ],
      "text/plain": [
       "     Selling_Price  Present_Price  Kms_Driven Fuel_Type Seller_Type  \\\n",
       "0             3.35           5.59       27000    Petrol      Dealer   \n",
       "1             4.75           9.54       43000    Diesel      Dealer   \n",
       "2             7.25           9.85        6900    Petrol      Dealer   \n",
       "3             2.85           4.15        5200    Petrol      Dealer   \n",
       "4             4.60           6.87       42450    Diesel      Dealer   \n",
       "..             ...            ...         ...       ...         ...   \n",
       "296           9.50          11.60       33988    Diesel      Dealer   \n",
       "297           4.00           5.90       60000    Petrol      Dealer   \n",
       "298           3.35          11.00       87934    Petrol      Dealer   \n",
       "299          11.50          12.50        9000    Diesel      Dealer   \n",
       "300           5.30           5.90        5464    Petrol      Dealer   \n",
       "\n",
       "    Transmission  Owner  Number_of_years  \n",
       "0         Manual      0                7  \n",
       "1         Manual      0                8  \n",
       "2         Manual      0                4  \n",
       "3         Manual      0               10  \n",
       "4         Manual      0                7  \n",
       "..           ...    ...              ...  \n",
       "296       Manual      0                5  \n",
       "297       Manual      0                6  \n",
       "298       Manual      0               12  \n",
       "299       Manual      0                4  \n",
       "300       Manual      0                5  \n",
       "\n",
       "[301 rows x 8 columns]"
      ]
     },
     "execution_count": 32,
     "metadata": {},
     "output_type": "execute_result"
    }
   ],
   "source": [
    "df"
   ]
  },
  {
   "cell_type": "markdown",
   "metadata": {},
   "source": [
    "**One hot Encoding** - Dummy Variable Trap"
   ]
  },
  {
   "cell_type": "code",
   "execution_count": 33,
   "metadata": {},
   "outputs": [
    {
     "data": {
      "text/html": [
       "<div>\n",
       "<style scoped>\n",
       "    .dataframe tbody tr th:only-of-type {\n",
       "        vertical-align: middle;\n",
       "    }\n",
       "\n",
       "    .dataframe tbody tr th {\n",
       "        vertical-align: top;\n",
       "    }\n",
       "\n",
       "    .dataframe thead th {\n",
       "        text-align: right;\n",
       "    }\n",
       "</style>\n",
       "<table border=\"1\" class=\"dataframe\">\n",
       "  <thead>\n",
       "    <tr style=\"text-align: right;\">\n",
       "      <th></th>\n",
       "      <th>Fuel_Type_CNG</th>\n",
       "      <th>Fuel_Type_Diesel</th>\n",
       "      <th>Fuel_Type_Petrol</th>\n",
       "      <th>Seller_Type_Dealer</th>\n",
       "      <th>Seller_Type_Individual</th>\n",
       "      <th>Transmission_Automatic</th>\n",
       "      <th>Transmission_Manual</th>\n",
       "    </tr>\n",
       "  </thead>\n",
       "  <tbody>\n",
       "    <tr>\n",
       "      <th>0</th>\n",
       "      <td>0</td>\n",
       "      <td>0</td>\n",
       "      <td>1</td>\n",
       "      <td>1</td>\n",
       "      <td>0</td>\n",
       "      <td>0</td>\n",
       "      <td>1</td>\n",
       "    </tr>\n",
       "    <tr>\n",
       "      <th>1</th>\n",
       "      <td>0</td>\n",
       "      <td>1</td>\n",
       "      <td>0</td>\n",
       "      <td>1</td>\n",
       "      <td>0</td>\n",
       "      <td>0</td>\n",
       "      <td>1</td>\n",
       "    </tr>\n",
       "    <tr>\n",
       "      <th>2</th>\n",
       "      <td>0</td>\n",
       "      <td>0</td>\n",
       "      <td>1</td>\n",
       "      <td>1</td>\n",
       "      <td>0</td>\n",
       "      <td>0</td>\n",
       "      <td>1</td>\n",
       "    </tr>\n",
       "    <tr>\n",
       "      <th>3</th>\n",
       "      <td>0</td>\n",
       "      <td>0</td>\n",
       "      <td>1</td>\n",
       "      <td>1</td>\n",
       "      <td>0</td>\n",
       "      <td>0</td>\n",
       "      <td>1</td>\n",
       "    </tr>\n",
       "    <tr>\n",
       "      <th>4</th>\n",
       "      <td>0</td>\n",
       "      <td>1</td>\n",
       "      <td>0</td>\n",
       "      <td>1</td>\n",
       "      <td>0</td>\n",
       "      <td>0</td>\n",
       "      <td>1</td>\n",
       "    </tr>\n",
       "    <tr>\n",
       "      <th>...</th>\n",
       "      <td>...</td>\n",
       "      <td>...</td>\n",
       "      <td>...</td>\n",
       "      <td>...</td>\n",
       "      <td>...</td>\n",
       "      <td>...</td>\n",
       "      <td>...</td>\n",
       "    </tr>\n",
       "    <tr>\n",
       "      <th>296</th>\n",
       "      <td>0</td>\n",
       "      <td>1</td>\n",
       "      <td>0</td>\n",
       "      <td>1</td>\n",
       "      <td>0</td>\n",
       "      <td>0</td>\n",
       "      <td>1</td>\n",
       "    </tr>\n",
       "    <tr>\n",
       "      <th>297</th>\n",
       "      <td>0</td>\n",
       "      <td>0</td>\n",
       "      <td>1</td>\n",
       "      <td>1</td>\n",
       "      <td>0</td>\n",
       "      <td>0</td>\n",
       "      <td>1</td>\n",
       "    </tr>\n",
       "    <tr>\n",
       "      <th>298</th>\n",
       "      <td>0</td>\n",
       "      <td>0</td>\n",
       "      <td>1</td>\n",
       "      <td>1</td>\n",
       "      <td>0</td>\n",
       "      <td>0</td>\n",
       "      <td>1</td>\n",
       "    </tr>\n",
       "    <tr>\n",
       "      <th>299</th>\n",
       "      <td>0</td>\n",
       "      <td>1</td>\n",
       "      <td>0</td>\n",
       "      <td>1</td>\n",
       "      <td>0</td>\n",
       "      <td>0</td>\n",
       "      <td>1</td>\n",
       "    </tr>\n",
       "    <tr>\n",
       "      <th>300</th>\n",
       "      <td>0</td>\n",
       "      <td>0</td>\n",
       "      <td>1</td>\n",
       "      <td>1</td>\n",
       "      <td>0</td>\n",
       "      <td>0</td>\n",
       "      <td>1</td>\n",
       "    </tr>\n",
       "  </tbody>\n",
       "</table>\n",
       "<p>301 rows × 7 columns</p>\n",
       "</div>"
      ],
      "text/plain": [
       "     Fuel_Type_CNG  Fuel_Type_Diesel  Fuel_Type_Petrol  Seller_Type_Dealer  \\\n",
       "0                0                 0                 1                   1   \n",
       "1                0                 1                 0                   1   \n",
       "2                0                 0                 1                   1   \n",
       "3                0                 0                 1                   1   \n",
       "4                0                 1                 0                   1   \n",
       "..             ...               ...               ...                 ...   \n",
       "296              0                 1                 0                   1   \n",
       "297              0                 0                 1                   1   \n",
       "298              0                 0                 1                   1   \n",
       "299              0                 1                 0                   1   \n",
       "300              0                 0                 1                   1   \n",
       "\n",
       "     Seller_Type_Individual  Transmission_Automatic  Transmission_Manual  \n",
       "0                         0                       0                    1  \n",
       "1                         0                       0                    1  \n",
       "2                         0                       0                    1  \n",
       "3                         0                       0                    1  \n",
       "4                         0                       0                    1  \n",
       "..                      ...                     ...                  ...  \n",
       "296                       0                       0                    1  \n",
       "297                       0                       0                    1  \n",
       "298                       0                       0                    1  \n",
       "299                       0                       0                    1  \n",
       "300                       0                       0                    1  \n",
       "\n",
       "[301 rows x 7 columns]"
      ]
     },
     "execution_count": 33,
     "metadata": {},
     "output_type": "execute_result"
    }
   ],
   "source": [
    "x=pd.get_dummies(df[['Fuel_Type','Seller_Type','Transmission']])\n",
    "x"
   ]
  },
  {
   "cell_type": "code",
   "execution_count": 34,
   "metadata": {},
   "outputs": [],
   "source": [
    "dummy_variables=pd.get_dummies(df[['Fuel_Type','Seller_Type','Transmission']],drop_first=True)"
   ]
  },
  {
   "cell_type": "code",
   "execution_count": 35,
   "metadata": {},
   "outputs": [
    {
     "data": {
      "text/html": [
       "<div>\n",
       "<style scoped>\n",
       "    .dataframe tbody tr th:only-of-type {\n",
       "        vertical-align: middle;\n",
       "    }\n",
       "\n",
       "    .dataframe tbody tr th {\n",
       "        vertical-align: top;\n",
       "    }\n",
       "\n",
       "    .dataframe thead th {\n",
       "        text-align: right;\n",
       "    }\n",
       "</style>\n",
       "<table border=\"1\" class=\"dataframe\">\n",
       "  <thead>\n",
       "    <tr style=\"text-align: right;\">\n",
       "      <th></th>\n",
       "      <th>Fuel_Type_Diesel</th>\n",
       "      <th>Fuel_Type_Petrol</th>\n",
       "      <th>Seller_Type_Individual</th>\n",
       "      <th>Transmission_Manual</th>\n",
       "    </tr>\n",
       "  </thead>\n",
       "  <tbody>\n",
       "    <tr>\n",
       "      <th>0</th>\n",
       "      <td>0</td>\n",
       "      <td>1</td>\n",
       "      <td>0</td>\n",
       "      <td>1</td>\n",
       "    </tr>\n",
       "    <tr>\n",
       "      <th>1</th>\n",
       "      <td>1</td>\n",
       "      <td>0</td>\n",
       "      <td>0</td>\n",
       "      <td>1</td>\n",
       "    </tr>\n",
       "    <tr>\n",
       "      <th>2</th>\n",
       "      <td>0</td>\n",
       "      <td>1</td>\n",
       "      <td>0</td>\n",
       "      <td>1</td>\n",
       "    </tr>\n",
       "    <tr>\n",
       "      <th>3</th>\n",
       "      <td>0</td>\n",
       "      <td>1</td>\n",
       "      <td>0</td>\n",
       "      <td>1</td>\n",
       "    </tr>\n",
       "    <tr>\n",
       "      <th>4</th>\n",
       "      <td>1</td>\n",
       "      <td>0</td>\n",
       "      <td>0</td>\n",
       "      <td>1</td>\n",
       "    </tr>\n",
       "  </tbody>\n",
       "</table>\n",
       "</div>"
      ],
      "text/plain": [
       "   Fuel_Type_Diesel  Fuel_Type_Petrol  Seller_Type_Individual  \\\n",
       "0                 0                 1                       0   \n",
       "1                 1                 0                       0   \n",
       "2                 0                 1                       0   \n",
       "3                 0                 1                       0   \n",
       "4                 1                 0                       0   \n",
       "\n",
       "   Transmission_Manual  \n",
       "0                    1  \n",
       "1                    1  \n",
       "2                    1  \n",
       "3                    1  \n",
       "4                    1  "
      ]
     },
     "execution_count": 35,
     "metadata": {},
     "output_type": "execute_result"
    }
   ],
   "source": [
    "dummy_variables.head()"
   ]
  },
  {
   "cell_type": "code",
   "execution_count": 36,
   "metadata": {},
   "outputs": [],
   "source": [
    "df2=pd.concat([df,dummy_variables],axis=1)"
   ]
  },
  {
   "cell_type": "code",
   "execution_count": 37,
   "metadata": {
    "scrolled": true
   },
   "outputs": [],
   "source": [
    "df2.drop(columns='Fuel_Type',axis=1,inplace=True)"
   ]
  },
  {
   "cell_type": "code",
   "execution_count": 38,
   "metadata": {},
   "outputs": [],
   "source": [
    "df2.drop(columns=['Seller_Type','Transmission'],axis=1,inplace=True)"
   ]
  },
  {
   "cell_type": "code",
   "execution_count": 39,
   "metadata": {},
   "outputs": [
    {
     "data": {
      "text/html": [
       "<div>\n",
       "<style scoped>\n",
       "    .dataframe tbody tr th:only-of-type {\n",
       "        vertical-align: middle;\n",
       "    }\n",
       "\n",
       "    .dataframe tbody tr th {\n",
       "        vertical-align: top;\n",
       "    }\n",
       "\n",
       "    .dataframe thead th {\n",
       "        text-align: right;\n",
       "    }\n",
       "</style>\n",
       "<table border=\"1\" class=\"dataframe\">\n",
       "  <thead>\n",
       "    <tr style=\"text-align: right;\">\n",
       "      <th></th>\n",
       "      <th>Selling_Price</th>\n",
       "      <th>Present_Price</th>\n",
       "      <th>Kms_Driven</th>\n",
       "      <th>Owner</th>\n",
       "      <th>Number_of_years</th>\n",
       "      <th>Fuel_Type_Diesel</th>\n",
       "      <th>Fuel_Type_Petrol</th>\n",
       "      <th>Seller_Type_Individual</th>\n",
       "      <th>Transmission_Manual</th>\n",
       "    </tr>\n",
       "  </thead>\n",
       "  <tbody>\n",
       "    <tr>\n",
       "      <th>0</th>\n",
       "      <td>3.35</td>\n",
       "      <td>5.59</td>\n",
       "      <td>27000</td>\n",
       "      <td>0</td>\n",
       "      <td>7</td>\n",
       "      <td>0</td>\n",
       "      <td>1</td>\n",
       "      <td>0</td>\n",
       "      <td>1</td>\n",
       "    </tr>\n",
       "    <tr>\n",
       "      <th>1</th>\n",
       "      <td>4.75</td>\n",
       "      <td>9.54</td>\n",
       "      <td>43000</td>\n",
       "      <td>0</td>\n",
       "      <td>8</td>\n",
       "      <td>1</td>\n",
       "      <td>0</td>\n",
       "      <td>0</td>\n",
       "      <td>1</td>\n",
       "    </tr>\n",
       "    <tr>\n",
       "      <th>2</th>\n",
       "      <td>7.25</td>\n",
       "      <td>9.85</td>\n",
       "      <td>6900</td>\n",
       "      <td>0</td>\n",
       "      <td>4</td>\n",
       "      <td>0</td>\n",
       "      <td>1</td>\n",
       "      <td>0</td>\n",
       "      <td>1</td>\n",
       "    </tr>\n",
       "    <tr>\n",
       "      <th>3</th>\n",
       "      <td>2.85</td>\n",
       "      <td>4.15</td>\n",
       "      <td>5200</td>\n",
       "      <td>0</td>\n",
       "      <td>10</td>\n",
       "      <td>0</td>\n",
       "      <td>1</td>\n",
       "      <td>0</td>\n",
       "      <td>1</td>\n",
       "    </tr>\n",
       "    <tr>\n",
       "      <th>4</th>\n",
       "      <td>4.60</td>\n",
       "      <td>6.87</td>\n",
       "      <td>42450</td>\n",
       "      <td>0</td>\n",
       "      <td>7</td>\n",
       "      <td>1</td>\n",
       "      <td>0</td>\n",
       "      <td>0</td>\n",
       "      <td>1</td>\n",
       "    </tr>\n",
       "  </tbody>\n",
       "</table>\n",
       "</div>"
      ],
      "text/plain": [
       "   Selling_Price  Present_Price  Kms_Driven  Owner  Number_of_years  \\\n",
       "0           3.35           5.59       27000      0                7   \n",
       "1           4.75           9.54       43000      0                8   \n",
       "2           7.25           9.85        6900      0                4   \n",
       "3           2.85           4.15        5200      0               10   \n",
       "4           4.60           6.87       42450      0                7   \n",
       "\n",
       "   Fuel_Type_Diesel  Fuel_Type_Petrol  Seller_Type_Individual  \\\n",
       "0                 0                 1                       0   \n",
       "1                 1                 0                       0   \n",
       "2                 0                 1                       0   \n",
       "3                 0                 1                       0   \n",
       "4                 1                 0                       0   \n",
       "\n",
       "   Transmission_Manual  \n",
       "0                    1  \n",
       "1                    1  \n",
       "2                    1  \n",
       "3                    1  \n",
       "4                    1  "
      ]
     },
     "execution_count": 39,
     "metadata": {},
     "output_type": "execute_result"
    }
   ],
   "source": [
    "df2.head()"
   ]
  },
  {
   "cell_type": "markdown",
   "metadata": {},
   "source": [
    "**Checking normality via graphs**"
   ]
  },
  {
   "cell_type": "code",
   "execution_count": 40,
   "metadata": {},
   "outputs": [
    {
     "data": {
      "image/png": "[encoded data removed]",
      "text/plain": [
       "<Figure size 1440x720 with 3 Axes>"
      ]
     },
     "metadata": {
      "needs_background": "light"
     },
     "output_type": "display_data"
    }
   ],
   "source": [
    "plt.figure(figsize=(20,10))\n",
    "plot=1\n",
    "\n",
    "for i in ['Present_Price','Kms_Driven','Number_of_years']:\n",
    "    plt.subplot(3,3,plot)\n",
    "    sns.distplot(df2[i])\n",
    "#     plt.xticks(rotation=90)\n",
    "    plot+=1\n",
    "plt.savefig('./Graphs/Normality_first_check.jpg')"
   ]
  },
  {
   "cell_type": "markdown",
   "metadata": {},
   "source": [
    "In graphs we have seen that none of them are perfectly normal distributed curve. So we need to make it normally distributed first. But before that lets check the outeliers if any"
   ]
  },
  {
   "cell_type": "markdown",
   "metadata": {},
   "source": [
    "**Chceking outliers**"
   ]
  },
  {
   "cell_type": "code",
   "execution_count": 41,
   "metadata": {},
   "outputs": [
    {
     "data": {
      "text/plain": [
       "Index(['Selling_Price', 'Present_Price', 'Kms_Driven', 'Owner',\n",
       "       'Number_of_years', 'Fuel_Type_Diesel', 'Fuel_Type_Petrol',\n",
       "       'Seller_Type_Individual', 'Transmission_Manual'],\n",
       "      dtype='object')"
      ]
     },
     "execution_count": 41,
     "metadata": {},
     "output_type": "execute_result"
    }
   ],
   "source": [
    "df2.columns"
   ]
  },
  {
   "cell_type": "code",
   "execution_count": 42,
   "metadata": {},
   "outputs": [
    {
     "data": {
      "image/png": "[encoded data removed]",
      "text/plain": [
       "<Figure size 1440x720 with 3 Axes>"
      ]
     },
     "metadata": {
      "needs_background": "light"
     },
     "output_type": "display_data"
    }
   ],
   "source": [
    "plt.figure(figsize=(20,10))\n",
    "plot=1\n",
    "\n",
    "for i in ['Present_Price','Kms_Driven','Number_of_years']:\n",
    "    plt.subplot(3,3,plot)\n",
    "    sns.boxplot(df2[i],orient=\"h\")\n",
    "#     plt.xticks(rotation=90)\n",
    "    plot+=1\n",
    "plt.savefig('./Graphs/Boxplot_for_outliers_detection.jpg')"
   ]
  },
  {
   "cell_type": "code",
   "execution_count": 43,
   "metadata": {},
   "outputs": [
    {
     "data": {
      "text/plain": [
       "(301, 9)"
      ]
     },
     "execution_count": 43,
     "metadata": {},
     "output_type": "execute_result"
    }
   ],
   "source": [
    "# shape before removing outliers\n",
    "\n",
    "df2.shape"
   ]
  },
  {
   "cell_type": "code",
   "execution_count": 44,
   "metadata": {},
   "outputs": [],
   "source": [
    "for i in ['Present_Price','Kms_Driven','Number_of_years']:\n",
    "    q1 = df2[i].quantile(0.25)\n",
    "    q3 = df2[i].quantile(0.75)\n",
    "    iqr = q3-q1\n",
    "    lower = q1-(1.5*iqr)\n",
    "    upper = q3+(1.5*iqr)\n",
    "    df2 = df2[(df2[i]>lower) & (df2[i]<upper)]\n",
    "    "
   ]
  },
  {
   "cell_type": "code",
   "execution_count": 45,
   "metadata": {},
   "outputs": [
    {
     "data": {
      "text/plain": [
       "(275, 9)"
      ]
     },
     "execution_count": 45,
     "metadata": {},
     "output_type": "execute_result"
    }
   ],
   "source": [
    "df2.shape"
   ]
  },
  {
   "cell_type": "code",
   "execution_count": 46,
   "metadata": {},
   "outputs": [
    {
     "name": "stdout",
     "output_type": "stream",
     "text": [
      "Percentage of data removed afetr outliers detection 8.64%\n"
     ]
    }
   ],
   "source": [
    "print(f'Percentage of data removed afetr outliers detection {round(((301-275)/301)*100,2)}%')"
   ]
  },
  {
   "cell_type": "code",
   "execution_count": 47,
   "metadata": {},
   "outputs": [
    {
     "data": {
      "image/png": "[encoded data removed]",
      "text/plain": [
       "<Figure size 1440x720 with 3 Axes>"
      ]
     },
     "metadata": {
      "needs_background": "light"
     },
     "output_type": "display_data"
    }
   ],
   "source": [
    "plt.figure(figsize=(20,10))\n",
    "plot=1\n",
    "\n",
    "for i in ['Present_Price','Kms_Driven','Number_of_years']:\n",
    "    plt.subplot(3,3,plot)\n",
    "    sns.boxplot(df2[i],orient=\"h\")\n",
    "#     plt.xticks(rotation=90)\n",
    "    plot+=1\n",
    "plt.savefig('./Graphs/Boxplot_after_removing_outliers.jpg')"
   ]
  },
  {
   "cell_type": "markdown",
   "metadata": {},
   "source": [
    "Outliers are removed. Few are still there but they are a very very small in number. So let it be"
   ]
  },
  {
   "cell_type": "markdown",
   "metadata": {},
   "source": [
    "**Checking Normal distribution of the features**"
   ]
  },
  {
   "cell_type": "code",
   "execution_count": 48,
   "metadata": {},
   "outputs": [
    {
     "data": {
      "image/png": "[encoded data removed]",
      "text/plain": [
       "<Figure size 1440x720 with 3 Axes>"
      ]
     },
     "metadata": {
      "needs_background": "light"
     },
     "output_type": "display_data"
    }
   ],
   "source": [
    "plt.figure(figsize=(20,10))\n",
    "plot=1\n",
    "\n",
    "for i in ['Present_Price','Kms_Driven','Number_of_years']:\n",
    "    plt.subplot(3,3,plot)\n",
    "    sns.distplot(df2[i])\n",
    "#     plt.xticks(rotation=90)\n",
    "    plot+=1\n",
    "plt.savefig('./Graphs/Normality_after outliers_removed.jpg')"
   ]
  },
  {
   "cell_type": "markdown",
   "metadata": {},
   "source": [
    "Data are not in a normally distributed form"
   ]
  },
  {
   "cell_type": "markdown",
   "metadata": {},
   "source": [
    "**Train-Test-Split**"
   ]
  },
  {
   "cell_type": "code",
   "execution_count": 49,
   "metadata": {},
   "outputs": [],
   "source": [
    "X_whole = df2.drop(columns='Selling_Price')\n",
    "Y_whole = df2['Selling_Price']"
   ]
  },
  {
   "cell_type": "code",
   "execution_count": 50,
   "metadata": {},
   "outputs": [],
   "source": [
    "x_train,x_test,y_train,y_test=train_test_split(X_whole,Y_whole,test_size=0.20,random_state=101)"
   ]
  },
  {
   "cell_type": "markdown",
   "metadata": {},
   "source": [
    "**Feature Importance**"
   ]
  },
  {
   "cell_type": "code",
   "execution_count": 51,
   "metadata": {},
   "outputs": [
    {
     "data": {
      "text/plain": [
       "ExtraTreesRegressor(random_state=101)"
      ]
     },
     "execution_count": 51,
     "metadata": {},
     "output_type": "execute_result"
    }
   ],
   "source": [
    "model=ExtraTreesRegressor(random_state = 101)\n",
    "model.fit(X_whole,Y_whole)"
   ]
  },
  {
   "cell_type": "code",
   "execution_count": 52,
   "metadata": {},
   "outputs": [],
   "source": [
    "imp_features=pd.DataFrame(model.feature_importances_,index=X_whole.columns)"
   ]
  },
  {
   "cell_type": "code",
   "execution_count": 53,
   "metadata": {},
   "outputs": [],
   "source": [
    "imp_features.reset_index(inplace=True)"
   ]
  },
  {
   "cell_type": "code",
   "execution_count": 54,
   "metadata": {},
   "outputs": [],
   "source": [
    "imp_features.rename(columns={'index':'Features',0:'Values'},inplace=True)"
   ]
  },
  {
   "cell_type": "code",
   "execution_count": 55,
   "metadata": {
    "scrolled": true
   },
   "outputs": [
    {
     "data": {
      "text/html": [
       "<div>\n",
       "<style scoped>\n",
       "    .dataframe tbody tr th:only-of-type {\n",
       "        vertical-align: middle;\n",
       "    }\n",
       "\n",
       "    .dataframe tbody tr th {\n",
       "        vertical-align: top;\n",
       "    }\n",
       "\n",
       "    .dataframe thead th {\n",
       "        text-align: right;\n",
       "    }\n",
       "</style>\n",
       "<table border=\"1\" class=\"dataframe\">\n",
       "  <thead>\n",
       "    <tr style=\"text-align: right;\">\n",
       "      <th></th>\n",
       "      <th>Features</th>\n",
       "      <th>Values</th>\n",
       "    </tr>\n",
       "  </thead>\n",
       "  <tbody>\n",
       "    <tr>\n",
       "      <th>6</th>\n",
       "      <td>Seller_Type_Individual</td>\n",
       "      <td>0.404777</td>\n",
       "    </tr>\n",
       "    <tr>\n",
       "      <th>0</th>\n",
       "      <td>Present_Price</td>\n",
       "      <td>0.399057</td>\n",
       "    </tr>\n",
       "    <tr>\n",
       "      <th>3</th>\n",
       "      <td>Number_of_years</td>\n",
       "      <td>0.128176</td>\n",
       "    </tr>\n",
       "    <tr>\n",
       "      <th>4</th>\n",
       "      <td>Fuel_Type_Diesel</td>\n",
       "      <td>0.026115</td>\n",
       "    </tr>\n",
       "    <tr>\n",
       "      <th>1</th>\n",
       "      <td>Kms_Driven</td>\n",
       "      <td>0.025619</td>\n",
       "    </tr>\n",
       "    <tr>\n",
       "      <th>7</th>\n",
       "      <td>Transmission_Manual</td>\n",
       "      <td>0.009788</td>\n",
       "    </tr>\n",
       "    <tr>\n",
       "      <th>5</th>\n",
       "      <td>Fuel_Type_Petrol</td>\n",
       "      <td>0.006071</td>\n",
       "    </tr>\n",
       "    <tr>\n",
       "      <th>2</th>\n",
       "      <td>Owner</td>\n",
       "      <td>0.000398</td>\n",
       "    </tr>\n",
       "  </tbody>\n",
       "</table>\n",
       "</div>"
      ],
      "text/plain": [
       "                 Features    Values\n",
       "6  Seller_Type_Individual  0.404777\n",
       "0           Present_Price  0.399057\n",
       "3         Number_of_years  0.128176\n",
       "4        Fuel_Type_Diesel  0.026115\n",
       "1              Kms_Driven  0.025619\n",
       "7     Transmission_Manual  0.009788\n",
       "5        Fuel_Type_Petrol  0.006071\n",
       "2                   Owner  0.000398"
      ]
     },
     "execution_count": 55,
     "metadata": {},
     "output_type": "execute_result"
    }
   ],
   "source": [
    "imp_features.nlargest(10,columns='Values')"
   ]
  },
  {
   "cell_type": "code",
   "execution_count": 56,
   "metadata": {},
   "outputs": [
    {
     "data": {
      "image/png": "[encoded data removed]",
      "text/plain": [
       "<Figure size 576x288 with 1 Axes>"
      ]
     },
     "metadata": {
      "needs_background": "light"
     },
     "output_type": "display_data"
    }
   ],
   "source": [
    "plt.figure(figsize=(8,4))\n",
    "sns.barplot(x='Features',y='Values',data=imp_features.nlargest(10,columns='Values'))\n",
    "plt.xticks(rotation=90)\n",
    "plt.savefig('./Graphs/Feature_importance.jpg')"
   ]
  },
  {
   "cell_type": "markdown",
   "metadata": {},
   "source": [
    "**Standardization**"
   ]
  },
  {
   "cell_type": "code",
   "execution_count": 57,
   "metadata": {},
   "outputs": [],
   "source": [
    "from sklearn.preprocessing import StandardScaler"
   ]
  },
  {
   "cell_type": "code",
   "execution_count": 58,
   "metadata": {},
   "outputs": [],
   "source": [
    "# Scaling the whole independent variables"
   ]
  },
  {
   "cell_type": "code",
   "execution_count": 59,
   "metadata": {},
   "outputs": [
    {
     "data": {
      "text/html": [
       "<div>\n",
       "<style scoped>\n",
       "    .dataframe tbody tr th:only-of-type {\n",
       "        vertical-align: middle;\n",
       "    }\n",
       "\n",
       "    .dataframe tbody tr th {\n",
       "        vertical-align: top;\n",
       "    }\n",
       "\n",
       "    .dataframe thead th {\n",
       "        text-align: right;\n",
       "    }\n",
       "</style>\n",
       "<table border=\"1\" class=\"dataframe\">\n",
       "  <thead>\n",
       "    <tr style=\"text-align: right;\">\n",
       "      <th></th>\n",
       "      <th>Present_Price</th>\n",
       "      <th>Kms_Driven</th>\n",
       "      <th>Owner</th>\n",
       "      <th>Number_of_years</th>\n",
       "      <th>Fuel_Type_Diesel</th>\n",
       "      <th>Fuel_Type_Petrol</th>\n",
       "      <th>Seller_Type_Individual</th>\n",
       "      <th>Transmission_Manual</th>\n",
       "    </tr>\n",
       "  </thead>\n",
       "  <tbody>\n",
       "    <tr>\n",
       "      <th>0</th>\n",
       "      <td>-0.138148</td>\n",
       "      <td>-0.211272</td>\n",
       "      <td>-0.194257</td>\n",
       "      <td>-0.010838</td>\n",
       "      <td>-0.454027</td>\n",
       "      <td>0.465633</td>\n",
       "      <td>-0.744092</td>\n",
       "      <td>0.316228</td>\n",
       "    </tr>\n",
       "    <tr>\n",
       "      <th>1</th>\n",
       "      <td>0.624060</td>\n",
       "      <td>0.577603</td>\n",
       "      <td>-0.194257</td>\n",
       "      <td>0.414955</td>\n",
       "      <td>2.202513</td>\n",
       "      <td>-2.147614</td>\n",
       "      <td>-0.744092</td>\n",
       "      <td>0.316228</td>\n",
       "    </tr>\n",
       "    <tr>\n",
       "      <th>2</th>\n",
       "      <td>0.683879</td>\n",
       "      <td>-1.202296</td>\n",
       "      <td>-0.194257</td>\n",
       "      <td>-1.288219</td>\n",
       "      <td>-0.454027</td>\n",
       "      <td>0.465633</td>\n",
       "      <td>-0.744092</td>\n",
       "      <td>0.316228</td>\n",
       "    </tr>\n",
       "    <tr>\n",
       "      <th>3</th>\n",
       "      <td>-0.416016</td>\n",
       "      <td>-1.286114</td>\n",
       "      <td>-0.194257</td>\n",
       "      <td>1.266542</td>\n",
       "      <td>-0.454027</td>\n",
       "      <td>0.465633</td>\n",
       "      <td>-0.744092</td>\n",
       "      <td>0.316228</td>\n",
       "    </tr>\n",
       "    <tr>\n",
       "      <th>4</th>\n",
       "      <td>0.108846</td>\n",
       "      <td>0.550485</td>\n",
       "      <td>-0.194257</td>\n",
       "      <td>-0.010838</td>\n",
       "      <td>2.202513</td>\n",
       "      <td>-2.147614</td>\n",
       "      <td>-0.744092</td>\n",
       "      <td>0.316228</td>\n",
       "    </tr>\n",
       "  </tbody>\n",
       "</table>\n",
       "</div>"
      ],
      "text/plain": [
       "   Present_Price  Kms_Driven     Owner  Number_of_years  Fuel_Type_Diesel  \\\n",
       "0      -0.138148   -0.211272 -0.194257        -0.010838         -0.454027   \n",
       "1       0.624060    0.577603 -0.194257         0.414955          2.202513   \n",
       "2       0.683879   -1.202296 -0.194257        -1.288219         -0.454027   \n",
       "3      -0.416016   -1.286114 -0.194257         1.266542         -0.454027   \n",
       "4       0.108846    0.550485 -0.194257        -0.010838          2.202513   \n",
       "\n",
       "   Fuel_Type_Petrol  Seller_Type_Individual  Transmission_Manual  \n",
       "0          0.465633               -0.744092             0.316228  \n",
       "1         -2.147614               -0.744092             0.316228  \n",
       "2          0.465633               -0.744092             0.316228  \n",
       "3          0.465633               -0.744092             0.316228  \n",
       "4         -2.147614               -0.744092             0.316228  "
      ]
     },
     "execution_count": 59,
     "metadata": {},
     "output_type": "execute_result"
    }
   ],
   "source": [
    "std=StandardScaler()\n",
    "X_std=std.fit_transform(X_whole)\n",
    "std_df=pd.DataFrame(X_std,columns=X_whole.columns)\n",
    "std_df.head()"
   ]
  },
  {
   "cell_type": "code",
   "execution_count": 60,
   "metadata": {},
   "outputs": [
    {
     "data": {
      "image/png": "[encoded data removed]",
      "text/plain": [
       "<Figure size 1440x720 with 8 Axes>"
      ]
     },
     "metadata": {
      "needs_background": "light"
     },
     "output_type": "display_data"
    }
   ],
   "source": [
    "plt.figure(figsize=(20,10))\n",
    "plot=1\n",
    "\n",
    "for i in std_df.columns:\n",
    "    plt.subplot(3,3,plot)\n",
    "    sns.distplot(std_df[i])\n",
    "#     plt.xticks(rotation=90)\n",
    "    plot+=1\n",
    "plt.savefig('./Graphs/Distribution of data_after_standardisation.jpg')"
   ]
  },
  {
   "cell_type": "code",
   "execution_count": 61,
   "metadata": {},
   "outputs": [],
   "source": [
    "import pickle"
   ]
  },
  {
   "cell_type": "code",
   "execution_count": 62,
   "metadata": {},
   "outputs": [],
   "source": [
    "std=StandardScaler()\n",
    "x_train = std.fit_transform(x_train)\n",
    "x_test = std.transform(x_test)\n",
    "\n",
    "with open('standard_scaler.pkl','wb') as std_file:\n",
    "    pickle.dump(std,std_file)"
   ]
  },
  {
   "cell_type": "markdown",
   "metadata": {},
   "source": [
    "## Modeling"
   ]
  },
  {
   "cell_type": "markdown",
   "metadata": {},
   "source": [
    "**1) Linear Regression**"
   ]
  },
  {
   "cell_type": "code",
   "execution_count": 63,
   "metadata": {
    "scrolled": false
   },
   "outputs": [
    {
     "name": "stdout",
     "output_type": "stream",
     "text": [
      "Fitting 5 folds for each of 2 candidates, totalling 10 fits\n",
      "[CV] END .................................fit_intercept=True; total time=   0.0s\n",
      "[CV] END .................................fit_intercept=True; total time=   0.0s\n",
      "[CV] END .................................fit_intercept=True; total time=   0.0s\n",
      "[CV] END .................................fit_intercept=True; total time=   0.0s\n",
      "[CV] END .................................fit_intercept=True; total time=   0.0s\n",
      "[CV] END ................................fit_intercept=False; total time=   0.0s\n",
      "[CV] END ................................fit_intercept=False; total time=   0.0s\n",
      "[CV] END ................................fit_intercept=False; total time=   0.0s\n",
      "[CV] END ................................fit_intercept=False; total time=   0.0s\n",
      "[CV] END ................................fit_intercept=False; total time=   0.0s\n",
      "78.06\n",
      "1.4056532636040682\n",
      "1.0336305848834906\n"
     ]
    }
   ],
   "source": [
    "ln_parameter = {\"fit_intercept\": [True, False]}\n",
    "ln_reg = LinearRegression()\n",
    "\n",
    "ln_random = RandomizedSearchCV( estimator = ln_reg, param_distributions = ln_parameter, n_iter = 10, cv = 5, verbose=2, random_state=42, n_jobs=1)\n",
    "\n",
    "ln_random.fit(x_train,y_train)\n",
    "fit_intercept_ln = ln_random.best_params_[\"fit_intercept\"]\n",
    "\n",
    "ln_model = LinearRegression(fit_intercept=fit_intercept_ln)\n",
    "ln_model.fit(x_train,y_train)\n",
    "y_pred = ln_model.predict(x_test)\n",
    "score_ln = r2_score(y_test,y_pred)\n",
    "\n",
    "mse=mean_squared_error(y_test,y_pred)\n",
    "rmse=np.sqrt(mse)\n",
    "mae=mean_absolute_error(y_test,y_pred)\n",
    "\n",
    "print(round(100*score_ln,2))\n",
    "print(rmse)\n",
    "print(mae)"
   ]
  },
  {
   "cell_type": "markdown",
   "metadata": {},
   "source": [
    "**2) Decision Tree**"
   ]
  },
  {
   "cell_type": "code",
   "execution_count": 64,
   "metadata": {},
   "outputs": [
    {
     "name": "stdout",
     "output_type": "stream",
     "text": [
      "Fitting 5 folds for each of 10 candidates, totalling 50 fits\n",
      "[CV] END max_depth=5, max_features=log2, max_leaf_nodes=10, min_samples_leaf=8, min_weight_fraction_leaf=0.5, splitter=random; total time=   0.0s\n",
      "[CV] END max_depth=5, max_features=log2, max_leaf_nodes=10, min_samples_leaf=8, min_weight_fraction_leaf=0.5, splitter=random; total time=   0.0s\n",
      "[CV] END max_depth=5, max_features=log2, max_leaf_nodes=10, min_samples_leaf=8, min_weight_fraction_leaf=0.5, splitter=random; total time=   0.0s\n",
      "[CV] END max_depth=5, max_features=log2, max_leaf_nodes=10, min_samples_leaf=8, min_weight_fraction_leaf=0.5, splitter=random; total time=   0.0s\n",
      "[CV] END max_depth=5, max_features=log2, max_leaf_nodes=10, min_samples_leaf=8, min_weight_fraction_leaf=0.5, splitter=random; total time=   0.0s\n",
      "[CV] END max_depth=1, max_features=auto, max_leaf_nodes=20, min_samples_leaf=8, min_weight_fraction_leaf=0.8, splitter=best; total time=   0.0s\n",
      "[CV] END max_depth=1, max_features=auto, max_leaf_nodes=20, min_samples_leaf=8, min_weight_fraction_leaf=0.8, splitter=best; total time=   0.0s\n",
      "[CV] END max_depth=1, max_features=auto, max_leaf_nodes=20, min_samples_leaf=8, min_weight_fraction_leaf=0.8, splitter=best; total time=   0.0s\n",
      "[CV] END max_depth=1, max_features=auto, max_leaf_nodes=20, min_samples_leaf=8, min_weight_fraction_leaf=0.8, splitter=best; total time=   0.0s\n",
      "[CV] END max_depth=1, max_features=auto, max_leaf_nodes=20, min_samples_leaf=8, min_weight_fraction_leaf=0.8, splitter=best; total time=   0.0s\n",
      "[CV] END max_depth=11, max_features=sqrt, max_leaf_nodes=50, min_samples_leaf=10, min_weight_fraction_leaf=0.9, splitter=best; total time=   0.0s\n",
      "[CV] END max_depth=11, max_features=sqrt, max_leaf_nodes=50, min_samples_leaf=10, min_weight_fraction_leaf=0.9, splitter=best; total time=   0.0s\n",
      "[CV] END max_depth=11, max_features=sqrt, max_leaf_nodes=50, min_samples_leaf=10, min_weight_fraction_leaf=0.9, splitter=best; total time=   0.0s\n",
      "[CV] END max_depth=11, max_features=sqrt, max_leaf_nodes=50, min_samples_leaf=10, min_weight_fraction_leaf=0.9, splitter=best; total time=   0.0s\n",
      "[CV] END max_depth=11, max_features=sqrt, max_leaf_nodes=50, min_samples_leaf=10, min_weight_fraction_leaf=0.9, splitter=best; total time=   0.0s\n",
      "[CV] END max_depth=12, max_features=sqrt, max_leaf_nodes=60, min_samples_leaf=6, min_weight_fraction_leaf=0.2, splitter=best; total time=   0.0s\n",
      "[CV] END max_depth=12, max_features=sqrt, max_leaf_nodes=60, min_samples_leaf=6, min_weight_fraction_leaf=0.2, splitter=best; total time=   0.0s\n",
      "[CV] END max_depth=12, max_features=sqrt, max_leaf_nodes=60, min_samples_leaf=6, min_weight_fraction_leaf=0.2, splitter=best; total time=   0.0s\n",
      "[CV] END max_depth=12, max_features=sqrt, max_leaf_nodes=60, min_samples_leaf=6, min_weight_fraction_leaf=0.2, splitter=best; total time=   0.0s\n",
      "[CV] END max_depth=12, max_features=sqrt, max_leaf_nodes=60, min_samples_leaf=6, min_weight_fraction_leaf=0.2, splitter=best; total time=   0.0s\n",
      "[CV] END max_depth=3, max_features=sqrt, max_leaf_nodes=5, min_samples_leaf=7, min_weight_fraction_leaf=0.9, splitter=best; total time=   0.0s\n",
      "[CV] END max_depth=3, max_features=sqrt, max_leaf_nodes=5, min_samples_leaf=7, min_weight_fraction_leaf=0.9, splitter=best; total time=   0.0s\n",
      "[CV] END max_depth=3, max_features=sqrt, max_leaf_nodes=5, min_samples_leaf=7, min_weight_fraction_leaf=0.9, splitter=best; total time=   0.0s\n",
      "[CV] END max_depth=3, max_features=sqrt, max_leaf_nodes=5, min_samples_leaf=7, min_weight_fraction_leaf=0.9, splitter=best; total time=   0.0s\n",
      "[CV] END max_depth=3, max_features=sqrt, max_leaf_nodes=5, min_samples_leaf=7, min_weight_fraction_leaf=0.9, splitter=best; total time=   0.0s\n",
      "[CV] END max_depth=1, max_features=sqrt, max_leaf_nodes=80, min_samples_leaf=9, min_weight_fraction_leaf=0.1, splitter=random; total time=   0.0s\n",
      "[CV] END max_depth=1, max_features=sqrt, max_leaf_nodes=80, min_samples_leaf=9, min_weight_fraction_leaf=0.1, splitter=random; total time=   0.0s\n",
      "[CV] END max_depth=1, max_features=sqrt, max_leaf_nodes=80, min_samples_leaf=9, min_weight_fraction_leaf=0.1, splitter=random; total time=   0.0s\n",
      "[CV] END max_depth=1, max_features=sqrt, max_leaf_nodes=80, min_samples_leaf=9, min_weight_fraction_leaf=0.1, splitter=random; total time=   0.0s\n",
      "[CV] END max_depth=1, max_features=sqrt, max_leaf_nodes=80, min_samples_leaf=9, min_weight_fraction_leaf=0.1, splitter=random; total time=   0.0s\n",
      "[CV] END max_depth=5, max_features=log2, max_leaf_nodes=70, min_samples_leaf=7, min_weight_fraction_leaf=0.2, splitter=best; total time=   0.0s\n",
      "[CV] END max_depth=5, max_features=log2, max_leaf_nodes=70, min_samples_leaf=7, min_weight_fraction_leaf=0.2, splitter=best; total time=   0.0s\n",
      "[CV] END max_depth=5, max_features=log2, max_leaf_nodes=70, min_samples_leaf=7, min_weight_fraction_leaf=0.2, splitter=best; total time=   0.0s\n",
      "[CV] END max_depth=5, max_features=log2, max_leaf_nodes=70, min_samples_leaf=7, min_weight_fraction_leaf=0.2, splitter=best; total time=   0.0s\n",
      "[CV] END max_depth=5, max_features=log2, max_leaf_nodes=70, min_samples_leaf=7, min_weight_fraction_leaf=0.2, splitter=best; total time=   0.0s\n",
      "[CV] END max_depth=11, max_features=sqrt, max_leaf_nodes=5, min_samples_leaf=7, min_weight_fraction_leaf=0.4, splitter=best; total time=   0.0s\n",
      "[CV] END max_depth=11, max_features=sqrt, max_leaf_nodes=5, min_samples_leaf=7, min_weight_fraction_leaf=0.4, splitter=best; total time=   0.0s\n",
      "[CV] END max_depth=11, max_features=sqrt, max_leaf_nodes=5, min_samples_leaf=7, min_weight_fraction_leaf=0.4, splitter=best; total time=   0.0s\n",
      "[CV] END max_depth=11, max_features=sqrt, max_leaf_nodes=5, min_samples_leaf=7, min_weight_fraction_leaf=0.4, splitter=best; total time=   0.0s\n",
      "[CV] END max_depth=11, max_features=sqrt, max_leaf_nodes=5, min_samples_leaf=7, min_weight_fraction_leaf=0.4, splitter=best; total time=   0.0s\n",
      "[CV] END max_depth=7, max_features=log2, max_leaf_nodes=5, min_samples_leaf=1, min_weight_fraction_leaf=0.2, splitter=best; total time=   0.0s\n",
      "[CV] END max_depth=7, max_features=log2, max_leaf_nodes=5, min_samples_leaf=1, min_weight_fraction_leaf=0.2, splitter=best; total time=   0.0s\n",
      "[CV] END max_depth=7, max_features=log2, max_leaf_nodes=5, min_samples_leaf=1, min_weight_fraction_leaf=0.2, splitter=best; total time=   0.0s\n",
      "[CV] END max_depth=7, max_features=log2, max_leaf_nodes=5, min_samples_leaf=1, min_weight_fraction_leaf=0.2, splitter=best; total time=   0.0s\n",
      "[CV] END max_depth=7, max_features=log2, max_leaf_nodes=5, min_samples_leaf=1, min_weight_fraction_leaf=0.2, splitter=best; total time=   0.0s\n",
      "[CV] END max_depth=12, max_features=sqrt, max_leaf_nodes=30, min_samples_leaf=2, min_weight_fraction_leaf=0.7, splitter=random; total time=   0.0s\n",
      "[CV] END max_depth=12, max_features=sqrt, max_leaf_nodes=30, min_samples_leaf=2, min_weight_fraction_leaf=0.7, splitter=random; total time=   0.0s\n",
      "[CV] END max_depth=12, max_features=sqrt, max_leaf_nodes=30, min_samples_leaf=2, min_weight_fraction_leaf=0.7, splitter=random; total time=   0.0s\n",
      "[CV] END max_depth=12, max_features=sqrt, max_leaf_nodes=30, min_samples_leaf=2, min_weight_fraction_leaf=0.7, splitter=random; total time=   0.0s\n",
      "[CV] END max_depth=12, max_features=sqrt, max_leaf_nodes=30, min_samples_leaf=2, min_weight_fraction_leaf=0.7, splitter=random; total time=   0.0s\n",
      "57.3\n",
      "1.9610695459509568\n",
      "1.3770182946486136\n"
     ]
    }
   ],
   "source": [
    "dt_parameter = {\"splitter\":[\"best\",\"random\"],\n",
    "                \"max_depth\" : [1,3,5,7,9,11,12],\n",
    "                \"min_samples_leaf\":[1,2,3,4,5,6,7,8,9,10],\n",
    "                \"min_weight_fraction_leaf\":[0.1,0.2,0.3,0.4,0.5,0.6,0.7,0.8,0.9],\n",
    "                \"max_features\":[\"auto\",\"log2\",\"sqrt\"], \"max_leaf_nodes\":[2,3,5,10,20,30,40,50,60,70,80,90]\n",
    "                }\n",
    "\n",
    "dt_reg=DecisionTreeRegressor()\n",
    "\n",
    "dt_random = RandomizedSearchCV( estimator = dt_reg, param_distributions = dt_parameter, n_iter = 10, cv = 5, verbose=2, random_state=42, n_jobs=1)\n",
    "dt_random.fit(x_train,y_train)\n",
    "\n",
    "splitter_dt = dt_random.best_params_[\"splitter\"]\n",
    "max_depth_dt = dt_random.best_params_[\"max_depth\"]\n",
    "min_samples_leaf_dt = dt_random.best_params_[\"min_samples_leaf\"]\n",
    "min_weight_fraction_leaf_dt = dt_random.best_params_[\"min_weight_fraction_leaf\"]\n",
    "max_features_dt = dt_random.best_params_[\"max_features\"]\n",
    "max_leaf_nodes_dt = dt_random.best_params_[\"max_leaf_nodes\"]\n",
    "\n",
    "dt_model = DecisionTreeRegressor(splitter=splitter_dt,\n",
    "                             max_depth=max_depth_dt,\n",
    "                             min_samples_leaf=min_samples_leaf_dt,\n",
    "                             min_weight_fraction_leaf=min_weight_fraction_leaf_dt,\n",
    "                            max_features=max_features_dt,max_leaf_nodes=max_leaf_nodes_dt)\n",
    "dt_model.fit(x_train,y_train)\n",
    "y_pred = dt_model.predict(x_test)\n",
    "score_dt = r2_score(y_test,y_pred)\n",
    "\n",
    "mse=mean_squared_error(y_test,y_pred)\n",
    "rmse=np.sqrt(mse)\n",
    "mae=mean_absolute_error(y_test,y_pred)\n",
    "\n",
    "print(round(100*score_dt,2))\n",
    "print(rmse)\n",
    "print(mae)"
   ]
  },
  {
   "cell_type": "markdown",
   "metadata": {},
   "source": [
    "**3) Random Forest**"
   ]
  },
  {
   "cell_type": "code",
   "execution_count": 65,
   "metadata": {},
   "outputs": [
    {
     "name": "stdout",
     "output_type": "stream",
     "text": [
      "Fitting 5 folds for each of 10 candidates, totalling 50 fits\n",
      "[CV] END bootstrap=False, max_depth=70, max_features=sqrt, min_samples_leaf=1, min_samples_split=10, n_estimators=1000; total time=   0.6s\n",
      "[CV] END bootstrap=False, max_depth=70, max_features=sqrt, min_samples_leaf=1, min_samples_split=10, n_estimators=1000; total time=   0.6s\n",
      "[CV] END bootstrap=False, max_depth=70, max_features=sqrt, min_samples_leaf=1, min_samples_split=10, n_estimators=1000; total time=   0.6s\n",
      "[CV] END bootstrap=False, max_depth=70, max_features=sqrt, min_samples_leaf=1, min_samples_split=10, n_estimators=1000; total time=   0.6s\n",
      "[CV] END bootstrap=False, max_depth=70, max_features=sqrt, min_samples_leaf=1, min_samples_split=10, n_estimators=1000; total time=   0.6s\n",
      "[CV] END bootstrap=False, max_depth=90, max_features=auto, min_samples_leaf=4, min_samples_split=10, n_estimators=1600; total time=   1.2s\n",
      "[CV] END bootstrap=False, max_depth=90, max_features=auto, min_samples_leaf=4, min_samples_split=10, n_estimators=1600; total time=   1.1s\n",
      "[CV] END bootstrap=False, max_depth=90, max_features=auto, min_samples_leaf=4, min_samples_split=10, n_estimators=1600; total time=   1.1s\n",
      "[CV] END bootstrap=False, max_depth=90, max_features=auto, min_samples_leaf=4, min_samples_split=10, n_estimators=1600; total time=   1.2s\n",
      "[CV] END bootstrap=False, max_depth=90, max_features=auto, min_samples_leaf=4, min_samples_split=10, n_estimators=1600; total time=   1.2s\n",
      "[CV] END bootstrap=True, max_depth=50, max_features=sqrt, min_samples_leaf=2, min_samples_split=10, n_estimators=200; total time=   0.1s\n",
      "[CV] END bootstrap=True, max_depth=50, max_features=sqrt, min_samples_leaf=2, min_samples_split=10, n_estimators=200; total time=   0.1s\n",
      "[CV] END bootstrap=True, max_depth=50, max_features=sqrt, min_samples_leaf=2, min_samples_split=10, n_estimators=200; total time=   0.1s\n",
      "[CV] END bootstrap=True, max_depth=50, max_features=sqrt, min_samples_leaf=2, min_samples_split=10, n_estimators=200; total time=   0.1s\n",
      "[CV] END bootstrap=True, max_depth=50, max_features=sqrt, min_samples_leaf=2, min_samples_split=10, n_estimators=200; total time=   0.1s\n",
      "[CV] END bootstrap=True, max_depth=80, max_features=auto, min_samples_leaf=2, min_samples_split=2, n_estimators=1000; total time=   0.9s\n",
      "[CV] END bootstrap=True, max_depth=80, max_features=auto, min_samples_leaf=2, min_samples_split=2, n_estimators=1000; total time=   0.9s\n",
      "[CV] END bootstrap=True, max_depth=80, max_features=auto, min_samples_leaf=2, min_samples_split=2, n_estimators=1000; total time=   1.0s\n",
      "[CV] END bootstrap=True, max_depth=80, max_features=auto, min_samples_leaf=2, min_samples_split=2, n_estimators=1000; total time=   0.9s\n",
      "[CV] END bootstrap=True, max_depth=80, max_features=auto, min_samples_leaf=2, min_samples_split=2, n_estimators=1000; total time=   0.9s\n",
      "[CV] END bootstrap=True, max_depth=70, max_features=auto, min_samples_leaf=2, min_samples_split=10, n_estimators=200; total time=   0.1s\n",
      "[CV] END bootstrap=True, max_depth=70, max_features=auto, min_samples_leaf=2, min_samples_split=10, n_estimators=200; total time=   0.1s\n",
      "[CV] END bootstrap=True, max_depth=70, max_features=auto, min_samples_leaf=2, min_samples_split=10, n_estimators=200; total time=   0.1s\n",
      "[CV] END bootstrap=True, max_depth=70, max_features=auto, min_samples_leaf=2, min_samples_split=10, n_estimators=200; total time=   0.1s\n",
      "[CV] END bootstrap=True, max_depth=70, max_features=auto, min_samples_leaf=2, min_samples_split=10, n_estimators=200; total time=   0.1s\n",
      "[CV] END bootstrap=True, max_depth=70, max_features=auto, min_samples_leaf=1, min_samples_split=5, n_estimators=1200; total time=   1.2s\n",
      "[CV] END bootstrap=True, max_depth=70, max_features=auto, min_samples_leaf=1, min_samples_split=5, n_estimators=1200; total time=   1.2s\n",
      "[CV] END bootstrap=True, max_depth=70, max_features=auto, min_samples_leaf=1, min_samples_split=5, n_estimators=1200; total time=   1.1s\n",
      "[CV] END bootstrap=True, max_depth=70, max_features=auto, min_samples_leaf=1, min_samples_split=5, n_estimators=1200; total time=   1.1s\n",
      "[CV] END bootstrap=True, max_depth=70, max_features=auto, min_samples_leaf=1, min_samples_split=5, n_estimators=1200; total time=   1.2s\n",
      "[CV] END bootstrap=False, max_depth=100, max_features=sqrt, min_samples_leaf=4, min_samples_split=10, n_estimators=600; total time=   0.3s\n",
      "[CV] END bootstrap=False, max_depth=100, max_features=sqrt, min_samples_leaf=4, min_samples_split=10, n_estimators=600; total time=   0.3s\n",
      "[CV] END bootstrap=False, max_depth=100, max_features=sqrt, min_samples_leaf=4, min_samples_split=10, n_estimators=600; total time=   0.3s\n",
      "[CV] END bootstrap=False, max_depth=100, max_features=sqrt, min_samples_leaf=4, min_samples_split=10, n_estimators=600; total time=   0.3s\n",
      "[CV] END bootstrap=False, max_depth=100, max_features=sqrt, min_samples_leaf=4, min_samples_split=10, n_estimators=600; total time=   0.3s\n",
      "[CV] END bootstrap=False, max_depth=70, max_features=auto, min_samples_leaf=2, min_samples_split=2, n_estimators=600; total time=   0.4s\n",
      "[CV] END bootstrap=False, max_depth=70, max_features=auto, min_samples_leaf=2, min_samples_split=2, n_estimators=600; total time=   0.4s\n",
      "[CV] END bootstrap=False, max_depth=70, max_features=auto, min_samples_leaf=2, min_samples_split=2, n_estimators=600; total time=   0.4s\n",
      "[CV] END bootstrap=False, max_depth=70, max_features=auto, min_samples_leaf=2, min_samples_split=2, n_estimators=600; total time=   0.4s\n",
      "[CV] END bootstrap=False, max_depth=70, max_features=auto, min_samples_leaf=2, min_samples_split=2, n_estimators=600; total time=   0.4s\n",
      "[CV] END bootstrap=True, max_depth=100, max_features=auto, min_samples_leaf=1, min_samples_split=5, n_estimators=1800; total time=   1.8s\n",
      "[CV] END bootstrap=True, max_depth=100, max_features=auto, min_samples_leaf=1, min_samples_split=5, n_estimators=1800; total time=   1.7s\n",
      "[CV] END bootstrap=True, max_depth=100, max_features=auto, min_samples_leaf=1, min_samples_split=5, n_estimators=1800; total time=   1.8s\n",
      "[CV] END bootstrap=True, max_depth=100, max_features=auto, min_samples_leaf=1, min_samples_split=5, n_estimators=1800; total time=   1.8s\n",
      "[CV] END bootstrap=True, max_depth=100, max_features=auto, min_samples_leaf=1, min_samples_split=5, n_estimators=1800; total time=   1.7s\n",
      "[CV] END bootstrap=False, max_depth=20, max_features=auto, min_samples_leaf=1, min_samples_split=2, n_estimators=2000; total time=   2.5s\n",
      "[CV] END bootstrap=False, max_depth=20, max_features=auto, min_samples_leaf=1, min_samples_split=2, n_estimators=2000; total time=   2.2s\n",
      "[CV] END bootstrap=False, max_depth=20, max_features=auto, min_samples_leaf=1, min_samples_split=2, n_estimators=2000; total time=   2.1s\n",
      "[CV] END bootstrap=False, max_depth=20, max_features=auto, min_samples_leaf=1, min_samples_split=2, n_estimators=2000; total time=   2.1s\n",
      "[CV] END bootstrap=False, max_depth=20, max_features=auto, min_samples_leaf=1, min_samples_split=2, n_estimators=2000; total time=   2.0s\n",
      "92.45\n",
      "1.9610695459509568\n",
      "1.3770182946486136\n"
     ]
    }
   ],
   "source": [
    "rf_parameter = {'n_estimators': [int(x) for x in np.linspace(start = 200, stop = 2000, num = 10)],\n",
    "                'max_features': ['auto', 'sqrt'],\n",
    "                'max_depth': [int(x) for x in np.linspace(10, 110, num = 11)],\n",
    "                'min_samples_split': [2, 5, 10],\n",
    "                'min_samples_leaf': [1, 2, 4],\n",
    "                'bootstrap': [True, False]\n",
    "                }\n",
    "\n",
    "rf_reg=RandomForestRegressor()\n",
    "rf_random = RandomizedSearchCV( estimator = rf_reg, param_distributions = rf_parameter, n_iter = 10, cv = 5, verbose=2, random_state=42, n_jobs=1)\n",
    "rf_random.fit(x_train,y_train)\n",
    "    \n",
    "n_estimators_rf = rf_random.best_params_['n_estimators']\n",
    "max_features_rf = rf_random.best_params_['max_features']\n",
    "max_depth_rf = rf_random.best_params_['max_depth']\n",
    "min_sample_split_rf = rf_random.best_params_['min_samples_split']\n",
    "min_samples_leaf_rf = rf_random.best_params_['min_samples_leaf']\n",
    "bootstrap_rf = rf_random.best_params_['bootstrap']\n",
    "\n",
    "rf_model=RandomForestRegressor(n_estimators=n_estimators_rf,\n",
    "                             max_features=max_features_rf,\n",
    "                             max_depth=max_depth_rf,\n",
    "                             min_samples_split=min_sample_split_rf,\n",
    "                             min_samples_leaf=min_samples_leaf_rf,\n",
    "                             bootstrap=bootstrap_rf)\n",
    "rf_model.fit(x_train,y_train)\n",
    "rf_pred  = rf_model.predict(x_test)\n",
    "score_rf = r2_score(y_test,rf_pred )\n",
    "\n",
    "mse=mean_squared_error(y_test,y_pred)\n",
    "rmse=np.sqrt(mse)\n",
    "mae=mean_absolute_error(y_test,y_pred)\n",
    "\n",
    "print(round(100*score_rf,2))\n",
    "print(rmse)\n",
    "print(mae)"
   ]
  },
  {
   "cell_type": "markdown",
   "metadata": {},
   "source": [
    "**3) Gradient Boost**"
   ]
  },
  {
   "cell_type": "code",
   "execution_count": 66,
   "metadata": {},
   "outputs": [
    {
     "name": "stdout",
     "output_type": "stream",
     "text": [
      "Fitting 5 folds for each of 10 candidates, totalling 50 fits\n",
      "[CV] END learning_rate=0.1, max_depth=4, max_features=2, min_samples_leaf=3, min_samples_split=100, n_estimators=1500, subsample=0.9; total time=   0.4s\n",
      "[CV] END learning_rate=0.1, max_depth=4, max_features=2, min_samples_leaf=3, min_samples_split=100, n_estimators=1500, subsample=0.9; total time=   0.3s\n",
      "[CV] END learning_rate=0.1, max_depth=4, max_features=2, min_samples_leaf=3, min_samples_split=100, n_estimators=1500, subsample=0.9; total time=   0.3s\n",
      "[CV] END learning_rate=0.1, max_depth=4, max_features=2, min_samples_leaf=3, min_samples_split=100, n_estimators=1500, subsample=0.9; total time=   0.3s\n",
      "[CV] END learning_rate=0.1, max_depth=4, max_features=2, min_samples_leaf=3, min_samples_split=100, n_estimators=1500, subsample=0.9; total time=   0.3s\n",
      "[CV] END learning_rate=0.1, max_depth=4, max_features=6, min_samples_leaf=3, min_samples_split=40, n_estimators=1750, subsample=0.85; total time=   0.4s\n",
      "[CV] END learning_rate=0.1, max_depth=4, max_features=6, min_samples_leaf=3, min_samples_split=40, n_estimators=1750, subsample=0.85; total time=   0.5s\n",
      "[CV] END learning_rate=0.1, max_depth=4, max_features=6, min_samples_leaf=3, min_samples_split=40, n_estimators=1750, subsample=0.85; total time=   0.5s\n",
      "[CV] END learning_rate=0.1, max_depth=4, max_features=6, min_samples_leaf=3, min_samples_split=40, n_estimators=1750, subsample=0.85; total time=   0.4s\n",
      "[CV] END learning_rate=0.1, max_depth=4, max_features=6, min_samples_leaf=3, min_samples_split=40, n_estimators=1750, subsample=0.85; total time=   0.4s\n",
      "[CV] END learning_rate=0.005, max_depth=2, max_features=3, min_samples_leaf=1, min_samples_split=60, n_estimators=1500, subsample=0.9; total time=   0.2s\n",
      "[CV] END learning_rate=0.005, max_depth=2, max_features=3, min_samples_leaf=1, min_samples_split=60, n_estimators=1500, subsample=0.9; total time=   0.3s\n",
      "[CV] END learning_rate=0.005, max_depth=2, max_features=3, min_samples_leaf=1, min_samples_split=60, n_estimators=1500, subsample=0.9; total time=   0.3s\n",
      "[CV] END learning_rate=0.005, max_depth=2, max_features=3, min_samples_leaf=1, min_samples_split=60, n_estimators=1500, subsample=0.9; total time=   0.3s\n",
      "[CV] END learning_rate=0.005, max_depth=2, max_features=3, min_samples_leaf=1, min_samples_split=60, n_estimators=1500, subsample=0.9; total time=   0.3s\n",
      "[CV] END learning_rate=0.05, max_depth=7, max_features=2, min_samples_leaf=9, min_samples_split=6, n_estimators=250, subsample=0.85; total time=   0.0s\n",
      "[CV] END learning_rate=0.05, max_depth=7, max_features=2, min_samples_leaf=9, min_samples_split=6, n_estimators=250, subsample=0.85; total time=   0.0s\n",
      "[CV] END learning_rate=0.05, max_depth=7, max_features=2, min_samples_leaf=9, min_samples_split=6, n_estimators=250, subsample=0.85; total time=   0.0s\n",
      "[CV] END learning_rate=0.05, max_depth=7, max_features=2, min_samples_leaf=9, min_samples_split=6, n_estimators=250, subsample=0.85; total time=   0.0s\n",
      "[CV] END learning_rate=0.05, max_depth=7, max_features=2, min_samples_leaf=9, min_samples_split=6, n_estimators=250, subsample=0.85; total time=   0.0s\n",
      "[CV] END learning_rate=0.1, max_depth=3, max_features=3, min_samples_leaf=7, min_samples_split=60, n_estimators=100, subsample=0.9; total time=   0.0s\n",
      "[CV] END learning_rate=0.1, max_depth=3, max_features=3, min_samples_leaf=7, min_samples_split=60, n_estimators=100, subsample=0.9; total time=   0.0s\n",
      "[CV] END learning_rate=0.1, max_depth=3, max_features=3, min_samples_leaf=7, min_samples_split=60, n_estimators=100, subsample=0.9; total time=   0.0s\n",
      "[CV] END learning_rate=0.1, max_depth=3, max_features=3, min_samples_leaf=7, min_samples_split=60, n_estimators=100, subsample=0.9; total time=   0.0s\n",
      "[CV] END learning_rate=0.1, max_depth=3, max_features=3, min_samples_leaf=7, min_samples_split=60, n_estimators=100, subsample=0.9; total time=   0.0s\n",
      "[CV] END learning_rate=0.15, max_depth=5, max_features=5, min_samples_leaf=7, min_samples_split=100, n_estimators=100, subsample=1; total time=   0.0s\n",
      "[CV] END learning_rate=0.15, max_depth=5, max_features=5, min_samples_leaf=7, min_samples_split=100, n_estimators=100, subsample=1; total time=   0.0s\n",
      "[CV] END learning_rate=0.15, max_depth=5, max_features=5, min_samples_leaf=7, min_samples_split=100, n_estimators=100, subsample=1; total time=   0.0s\n",
      "[CV] END learning_rate=0.15, max_depth=5, max_features=5, min_samples_leaf=7, min_samples_split=100, n_estimators=100, subsample=1; total time=   0.0s\n",
      "[CV] END learning_rate=0.15, max_depth=5, max_features=5, min_samples_leaf=7, min_samples_split=100, n_estimators=100, subsample=1; total time=   0.0s\n",
      "[CV] END learning_rate=0.1, max_depth=5, max_features=2, min_samples_leaf=5, min_samples_split=10, n_estimators=750, subsample=0.9; total time=   0.1s\n",
      "[CV] END learning_rate=0.1, max_depth=5, max_features=2, min_samples_leaf=5, min_samples_split=10, n_estimators=750, subsample=0.9; total time=   0.2s\n",
      "[CV] END learning_rate=0.1, max_depth=5, max_features=2, min_samples_leaf=5, min_samples_split=10, n_estimators=750, subsample=0.9; total time=   0.1s\n",
      "[CV] END learning_rate=0.1, max_depth=5, max_features=2, min_samples_leaf=5, min_samples_split=10, n_estimators=750, subsample=0.9; total time=   0.1s\n",
      "[CV] END learning_rate=0.1, max_depth=5, max_features=2, min_samples_leaf=5, min_samples_split=10, n_estimators=750, subsample=0.9; total time=   0.1s\n",
      "[CV] END learning_rate=0.001, max_depth=6, max_features=4, min_samples_leaf=9, min_samples_split=20, n_estimators=500, subsample=0.7; total time=   0.0s\n",
      "[CV] END learning_rate=0.001, max_depth=6, max_features=4, min_samples_leaf=9, min_samples_split=20, n_estimators=500, subsample=0.7; total time=   0.0s\n",
      "[CV] END learning_rate=0.001, max_depth=6, max_features=4, min_samples_leaf=9, min_samples_split=20, n_estimators=500, subsample=0.7; total time=   0.0s\n",
      "[CV] END learning_rate=0.001, max_depth=6, max_features=4, min_samples_leaf=9, min_samples_split=20, n_estimators=500, subsample=0.7; total time=   0.0s\n",
      "[CV] END learning_rate=0.001, max_depth=6, max_features=4, min_samples_leaf=9, min_samples_split=20, n_estimators=500, subsample=0.7; total time=   0.0s\n",
      "[CV] END learning_rate=0.15, max_depth=7, max_features=6, min_samples_leaf=7, min_samples_split=20, n_estimators=750, subsample=0.95; total time=   0.2s\n",
      "[CV] END learning_rate=0.15, max_depth=7, max_features=6, min_samples_leaf=7, min_samples_split=20, n_estimators=750, subsample=0.95; total time=   0.2s\n",
      "[CV] END learning_rate=0.15, max_depth=7, max_features=6, min_samples_leaf=7, min_samples_split=20, n_estimators=750, subsample=0.95; total time=   0.2s\n",
      "[CV] END learning_rate=0.15, max_depth=7, max_features=6, min_samples_leaf=7, min_samples_split=20, n_estimators=750, subsample=0.95; total time=   0.2s\n",
      "[CV] END learning_rate=0.15, max_depth=7, max_features=6, min_samples_leaf=7, min_samples_split=20, n_estimators=750, subsample=0.95; total time=   0.2s\n",
      "[CV] END learning_rate=0.1, max_depth=7, max_features=5, min_samples_leaf=5, min_samples_split=20, n_estimators=1250, subsample=0.7; total time=   0.3s\n",
      "[CV] END learning_rate=0.1, max_depth=7, max_features=5, min_samples_leaf=5, min_samples_split=20, n_estimators=1250, subsample=0.7; total time=   0.3s\n",
      "[CV] END learning_rate=0.1, max_depth=7, max_features=5, min_samples_leaf=5, min_samples_split=20, n_estimators=1250, subsample=0.7; total time=   0.3s\n",
      "[CV] END learning_rate=0.1, max_depth=7, max_features=5, min_samples_leaf=5, min_samples_split=20, n_estimators=1250, subsample=0.7; total time=   0.3s\n",
      "[CV] END learning_rate=0.1, max_depth=7, max_features=5, min_samples_leaf=5, min_samples_split=20, n_estimators=1250, subsample=0.7; total time=   0.3s\n",
      "96.19\n",
      "0.5860389874938625\n",
      "0.40141875141804484\n"
     ]
    }
   ],
   "source": [
    "gb_parameter = {'learning_rate':[0.15,0.1,0.05,0.01,0.005,0.001], \n",
    "            'n_estimators':[100,250,500,750,1000,1250,1500,1750],\n",
    "            'max_depth':[2,3,4,5,6,7],\n",
    "            'min_samples_split':[2,4,6,8,10,20,40,60,100],\n",
    "            'min_samples_leaf':[1,3,5,7,9],\n",
    "            'max_features':[2,3,4,5,6,7],\n",
    "            'subsample':[0.7,0.75,0.8,0.85,0.9,0.95,1]}\n",
    "\n",
    "gb_reg=GradientBoostingRegressor()\n",
    "\n",
    "gb_random = RandomizedSearchCV( estimator = gb_reg, param_distributions = gb_parameter, n_iter = 10, cv = 5, verbose=2, random_state=42, n_jobs=1)\n",
    "gb_random.fit(x_train,y_train)\n",
    "\n",
    "learning_rate_gb = gb_random.best_params_['learning_rate']\n",
    "n_estimators_gb = gb_random.best_params_['n_estimators']\n",
    "max_depth_gb = gb_random.best_params_['max_depth']\n",
    "min_samples_split_gb = gb_random.best_params_['min_samples_split']\n",
    "min_samples_leaf_gb = gb_random.best_params_['min_samples_leaf']\n",
    "max_features_gb = gb_random.best_params_['max_features']\n",
    "subsamples_gb = gb_random.best_params_['subsample']\n",
    "\n",
    "gb_model = GradientBoostingRegressor(learning_rate=learning_rate_gb,\n",
    "                                   n_estimators=n_estimators_gb,\n",
    "                                   max_depth=max_depth_gb,\n",
    "                                   min_samples_split=min_samples_split_gb,\n",
    "                                   max_features=max_features_gb,subsample=subsamples_gb)\n",
    "gb_model.fit(x_train,y_train)\n",
    "y_pred = gb_model.predict(x_test)\n",
    "score_gb = r2_score(y_test,y_pred)\n",
    "\n",
    "\n",
    "mse=mean_squared_error(y_test,y_pred)\n",
    "rmse=np.sqrt(mse)\n",
    "mae=mean_absolute_error(y_test,y_pred)\n",
    "\n",
    "print(round(100*score_gb,2))\n",
    "print(rmse)\n",
    "print(mae)"
   ]
  },
  {
   "cell_type": "markdown",
   "metadata": {},
   "source": [
    "**4) XGBoost**"
   ]
  },
  {
   "cell_type": "code",
   "execution_count": 67,
   "metadata": {
    "scrolled": true
   },
   "outputs": [
    {
     "name": "stdout",
     "output_type": "stream",
     "text": [
      "Fitting 5 folds for each of 10 candidates, totalling 50 fits\n",
      "[03:17:20] WARNING: C:/Users/Administrator/workspace/xgboost-win64_release_1.3.0/src/learner.cc:541: \n",
      "Parameters: { min_child_weight_xgb } might not be used.\n",
      "\n",
      "  This may not be accurate due to some parameters are only used in language bindings but\n",
      "  passed down to XGBoost core.  Or some parameters are not used but slip through this\n",
      "  verification. Please open an issue if you find above cases.\n",
      "\n",
      "\n",
      "95.73\n",
      "0.6201990106721009\n",
      "0.43230235908248216\n"
     ]
    }
   ],
   "source": [
    "xgb_parameter = {\"learning_rate\":[0.05, 0.10, 0.15, 0.20, 0.25, 0.30 ] ,\n",
    "                             \"max_depth\":[ 3, 4, 5, 6, 8, 10, 12, 15],\n",
    "                             \"min_child_weight\":[ 1, 3, 5, 7 ],\n",
    "                             \"gamma\":[ 0.0, 0.1, 0.2 , 0.3, 0.4 ],\n",
    "                             \"colsample_bytree\":[ 0.3, 0.4, 0.5 , 0.7 ]\n",
    "                             }\n",
    "\n",
    "\n",
    "xgb_reg=XGBRegressor()\n",
    " \n",
    "xgb_random = RandomizedSearchCV( estimator = xgb_reg, param_distributions = xgb_parameter, n_iter = 10, cv = 5, verbose=2, random_state=42, n_jobs=-1)\n",
    "\n",
    "xgb_random.fit(x_train,y_train)\n",
    "\n",
    "learning_rate_xgb = xgb_random.best_params_[\"learning_rate\"]\n",
    "max_depth_xgb = xgb_random.best_params_[\"max_depth\"]\n",
    "min_child_weight_xgb = xgb_random.best_params_[\"min_child_weight\"]\n",
    "gamma_xgb = xgb_random.best_params_[\"gamma\"]\n",
    "colsample_bytree_xgb = xgb_random.best_params_[\"colsample_bytree\"]\n",
    "\n",
    "xgb_model = XGBRegressor(learning_rate=learning_rate_xgb,\n",
    "                       max_depth=max_depth_xgb,\n",
    "                       min_child_weight_xgb=min_child_weight_xgb,\n",
    "                       gamma=gamma_xgb,\n",
    "                       colsample_bytree=colsample_bytree_xgb)\n",
    "\n",
    "xgb_model.fit(x_train,y_train)\n",
    "y_pred_xgb = xgb_model.predict(x_test)\n",
    "score_xgb = r2_score(y_test,y_pred_xgb)\n",
    "\n",
    "\n",
    "\n",
    "mse_xgb=mean_squared_error(y_test,y_pred_xgb)\n",
    "rmse_xgb=np.sqrt(mse_xgb)\n",
    "mae_xgb=mean_absolute_error(y_test,y_pred_xgb)\n",
    "\n",
    "print(round(100*score_xgb,2))\n",
    "print(rmse_xgb)\n",
    "print(mae_xgb)"
   ]
  },
  {
   "cell_type": "markdown",
   "metadata": {},
   "source": [
    "**Selecting the best model**"
   ]
  },
  {
   "cell_type": "markdown",
   "metadata": {},
   "source": [
    "Out of the above models XGBoost performs well with highest r2_scores. So we will chose that model as the final model for prediction"
   ]
  },
  {
   "cell_type": "markdown",
   "metadata": {},
   "source": [
    "## Final Model - **XGBoost**"
   ]
  },
  {
   "cell_type": "code",
   "execution_count": 68,
   "metadata": {},
   "outputs": [],
   "source": [
    "with open('xgboost.pkl','wb') as file:\n",
    "    pickle.dump(xgb_model,file)"
   ]
  },
  {
   "cell_type": "markdown",
   "metadata": {},
   "source": [
    "Residual normaly is also in normal distribution form"
   ]
  },
  {
   "cell_type": "code",
   "execution_count": 69,
   "metadata": {
    "scrolled": true
   },
   "outputs": [
    {
     "data": {
      "text/plain": [
       "<matplotlib.collections.PathCollection at 0x1f0ad9c7f48>"
      ]
     },
     "execution_count": 69,
     "metadata": {},
     "output_type": "execute_result"
    },
    {
     "data": {
      "image/png": "[encoded data removed]",
      "text/plain": [
       "<Figure size 432x288 with 1 Axes>"
      ]
     },
     "metadata": {
      "needs_background": "light"
     },
     "output_type": "display_data"
    }
   ],
   "source": [
    "plt.scatter(y_test,y_pred_xgb)"
   ]
  },
  {
   "cell_type": "markdown",
   "metadata": {},
   "source": [
    "Trend of Residuals are Linear in nature. So yes our model has performed perfectly good"
   ]
  },
  {
   "cell_type": "code",
   "execution_count": 70,
   "metadata": {},
   "outputs": [
    {
     "data": {
      "text/plain": [
       "<AxesSubplot:xlabel='Selling_Price', ylabel='Density'>"
      ]
     },
     "execution_count": 70,
     "metadata": {},
     "output_type": "execute_result"
    },
    {
     "data": {
      "image/png": "[encoded data removed]",
      "text/plain": [
       "<Figure size 432x288 with 1 Axes>"
      ]
     },
     "metadata": {
      "needs_background": "light"
     },
     "output_type": "display_data"
    }
   ],
   "source": [
    "sns.distplot(y_test-y_pred_xgb)"
   ]
  },
  {
   "cell_type": "markdown",
   "metadata": {},
   "source": [
    "Also residuals are normally distributed. However there are little skewness in the graph but it is ok"
   ]
  },
  {
   "cell_type": "markdown",
   "metadata": {},
   "source": [
    "**Validating the model**"
   ]
  },
  {
   "cell_type": "code",
   "execution_count": 71,
   "metadata": {},
   "outputs": [
    {
     "name": "stdout",
     "output_type": "stream",
     "text": [
      "MAE is: 0.43230235908248216\n",
      "MSE is: 0.38464681283865276\n",
      "RMSE is: 0.6201990106721009\n"
     ]
    }
   ],
   "source": [
    "print('MAE is:',mean_absolute_error(y_test,y_pred_xgb))\n",
    "print('MSE is:',mean_squared_error(y_test,y_pred_xgb))\n",
    "print('RMSE is:',np.sqrt(mean_squared_error(y_test,y_pred_xgb)))"
   ]
  },
  {
   "cell_type": "markdown",
   "metadata": {},
   "source": [
    "Perfectly fine"
   ]
  },
  {
   "cell_type": "code",
   "execution_count": null,
   "metadata": {},
   "outputs": [],
   "source": []
  }
 ],
 "metadata": {
  "kernelspec": {
   "display_name": "Python 3",
   "language": "python",
   "name": "python3"
  },
  "language_info": {
   "codemirror_mode": {
    "name": "ipython",
    "version": 3
   },
   "file_extension": ".py",
   "mimetype": "text/x-python",
   "name": "python",
   "nbconvert_exporter": "python",
   "pygments_lexer": "ipython3",
   "version": "3.7.9"
  }
 },
 "nbformat": 4,
 "nbformat_minor": 4
}
